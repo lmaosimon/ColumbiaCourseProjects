{
 "cells": [
  {
   "cell_type": "markdown",
   "id": "46dd5ed7",
   "metadata": {},
   "source": [
    "# K-Means Clustering ICE5"
   ]
  },
  {
   "cell_type": "markdown",
   "id": "be43f316",
   "metadata": {},
   "source": [
    "**Goals:**\n",
    ">1. Implement K-Means algorithm to create clusters\n",
    ">2. Create a silhouette plot to evaluate the number of clusters"
   ]
  },
  {
   "cell_type": "markdown",
   "id": "c5a009e6",
   "metadata": {},
   "source": [
    "**Review:**\n",
    "> We did regression and classification for supervised learning models to predict labels based on labeled training data."
   ]
  },
  {
   "cell_type": "markdown",
   "id": "972a2ca9",
   "metadata": {},
   "source": [
    "When one is without preconceived categories or even knowing what one is looking for, unsupervised learning is the ideal approach. It allows the algorithm to detect the patterns that may be too complex for human to recognize.\n",
    "\n",
    "The algorithm reads the unlabeled data and discovers hidden patterns within."
   ]
  },
  {
   "cell_type": "markdown",
   "id": "6ab0dc89",
   "metadata": {},
   "source": [
    "**Example - Anomaly Detection:**\n",
    "\n",
    "For instance, the construction of a commercial airliner involves millions of mechanical parts. Each part of the aircraft will have a degree of error in length, weight, or performance due to simple variation in quality control — all pieces meeting a minimum standard, but not perfect. Even though all parts individually may work without perceivable error, in a complex machine like an aircraft, the accumulated error may be catastrophic. Traditionally, technicians must manually conduct multiple systemic evaluations of the plane, which cost tremendous amounts of time and money. Using an unsupervised approach, such as Anomaly Detection, and data regarding the quality of each part, an algorithm can holistically assess the amount of accumulated error and determine to what extent the accumulated errors affect the quality of the plane’s airworthiness, before the plane even leaves the warehouse.\n",
    "\n",
    "**Advantanges:**\n",
    ">1. Cost-efficient: Don't have to label every part.\n",
    ">2. Gain data stucture and find hidden relationships.\n",
    ">3. Identify interesting cases in complex data structure."
   ]
  },
  {
   "cell_type": "markdown",
   "id": "8426df12",
   "metadata": {},
   "source": [
    "**Clustering and k-Means:**\n",
    "\n",
    ">1. sklearn has many clustering algorithms\n",
    ">2. k-means clustering, implemented in sklearn.cluster.KMeans\n",
    ">3. k-means searches for a pre-determined number of clusters within an unlabled multidimensional dataset.\n",
    ">4. **Cluster Center** = arithmetic mean of all the points belonging to the cluster.\n",
    ">5. Each point is closer to its own cluster center than to other cluster centers."
   ]
  },
  {
   "cell_type": "code",
   "execution_count": 1,
   "id": "e55da2aa",
   "metadata": {},
   "outputs": [],
   "source": [
    "import matplotlib.pyplot as plt\n",
    "import numpy as np\n",
    "import pandas as pd"
   ]
  },
  {
   "cell_type": "markdown",
   "id": "e0b7c29c",
   "metadata": {},
   "source": [
    "Then simulate data on a two-dimensional plane with <mark>make_blobs</mark>. This function will return \n",
    ">1. a set of data\n",
    ">2. the true labels for each observatrion"
   ]
  },
  {
   "cell_type": "code",
   "execution_count": null,
   "id": "7983063f",
   "metadata": {},
   "outputs": [],
   "source": [
    "from sklearn.datasets import make_blobs\n",
    "\n",
    "twoDData, cluster_true= make_blobs(n_samples=300, centers=4,\n",
    "                                   culster_std =0.5, random_stat=0)\n",
    "\n",
    "print('Here')"
   ]
  },
  {
   "cell_type": "code",
   "execution_count": null,
   "id": "97b94b4e",
   "metadata": {},
   "outputs": [],
   "source": []
  },
  {
   "cell_type": "code",
   "execution_count": null,
   "id": "3081f278",
   "metadata": {},
   "outputs": [],
   "source": []
  }
 ],
 "metadata": {
  "kernelspec": {
   "display_name": "Python 3 (ipykernel)",
   "language": "python",
   "name": "python3"
  },
  "language_info": {
   "codemirror_mode": {
    "name": "ipython",
    "version": 3
   },
   "file_extension": ".py",
   "mimetype": "text/x-python",
   "name": "python",
   "nbconvert_exporter": "python",
   "pygments_lexer": "ipython3",
   "version": "3.8.12"
  }
 },
 "nbformat": 4,
 "nbformat_minor": 5
}
