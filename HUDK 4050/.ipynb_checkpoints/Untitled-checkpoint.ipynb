{
 "cells": [
  {
   "cell_type": "code",
   "execution_count": 1,
   "id": "645bb194",
   "metadata": {},
   "outputs": [
    {
     "name": "stdout",
     "output_type": "stream",
     "text": [
      "The Zen of Python, by Tim Peters\n",
      "\n",
      "Beautiful is better than ugly.\n",
      "Explicit is better than implicit.\n",
      "Simple is better than complex.\n",
      "Complex is better than complicated.\n",
      "Flat is better than nested.\n",
      "Sparse is better than dense.\n",
      "Readability counts.\n",
      "Special cases aren't special enough to break the rules.\n",
      "Although practicality beats purity.\n",
      "Errors should never pass silently.\n",
      "Unless explicitly silenced.\n",
      "In the face of ambiguity, refuse the temptation to guess.\n",
      "There should be one-- and preferably only one --obvious way to do it.\n",
      "Although that way may not be obvious at first unless you're Dutch.\n",
      "Now is better than never.\n",
      "Although never is often better than *right* now.\n",
      "If the implementation is hard to explain, it's a bad idea.\n",
      "If the implementation is easy to explain, it may be a good idea.\n",
      "Namespaces are one honking great idea -- let's do more of those!\n"
     ]
    }
   ],
   "source": [
    "import this"
   ]
  },
  {
   "cell_type": "code",
   "execution_count": 3,
   "id": "e7746ba7",
   "metadata": {},
   "outputs": [
    {
     "name": "stdout",
     "output_type": "stream",
     "text": [
      "Hello World!\n"
     ]
    }
   ],
   "source": [
    "print(\"Hello World!\")"
   ]
  },
  {
   "cell_type": "markdown",
   "id": "ae6a0338",
   "metadata": {},
   "source": [
    "<h1>Hello World again!</h1>"
   ]
  },
  {
   "cell_type": "code",
   "execution_count": 5,
   "id": "64308efb",
   "metadata": {},
   "outputs": [],
   "source": [
    "# Assign the variables\n",
    "x = 3\n",
    "y = 7\n",
    "xy = 'Whatsup'"
   ]
  },
  {
   "cell_type": "code",
   "execution_count": 6,
   "id": "100e0f3a",
   "metadata": {},
   "outputs": [
    {
     "name": "stdout",
     "output_type": "stream",
     "text": [
      "3 7 10 Whatsup\n"
     ]
    }
   ],
   "source": [
    "print(x, y, x+y, xy)"
   ]
  },
  {
   "cell_type": "code",
   "execution_count": 9,
   "id": "89da62ac",
   "metadata": {},
   "outputs": [
    {
     "name": "stdout",
     "output_type": "stream",
     "text": [
      "7\n",
      "5\n",
      "7\n"
     ]
    }
   ],
   "source": [
    "# Try to mess up with aliasing\n",
    "print(x)\n",
    "x = 5\n",
    "print(x)\n",
    "x = y\n",
    "print(x)"
   ]
  },
  {
   "cell_type": "code",
   "execution_count": 11,
   "id": "9f825dc3",
   "metadata": {},
   "outputs": [
    {
     "name": "stdout",
     "output_type": "stream",
     "text": [
      "1 + 2 =  3\n",
      "2 - 1 =  1\n",
      "1 * 2 =  2\n",
      "9 / 3 =  3.0\n"
     ]
    }
   ],
   "source": [
    "a = 1 + 2\n",
    "print(\"1 + 2 = \", a)\n",
    "b = 2 - 1\n",
    "print(\"2 - 1 = \", b)\n",
    "c = 1 * 2\n",
    "print(\"1 * 2 = \", c)\n",
    "d = 9 / 3\n",
    "print(\"9 / 3 = \", d)"
   ]
  },
  {
   "cell_type": "code",
   "execution_count": 13,
   "id": "405d0e2e",
   "metadata": {},
   "outputs": [
    {
     "name": "stdout",
     "output_type": "stream",
     "text": [
      "m =  1\n",
      "f =  3\n"
     ]
    }
   ],
   "source": [
    "# division-related operators\n",
    "m = 10 % 3\n",
    "print(\"m = \", m)\n",
    "f = 10 // 3\n",
    "print(\"f = \", f)"
   ]
  },
  {
   "cell_type": "code",
   "execution_count": 15,
   "id": "ef8a74b7",
   "metadata": {},
   "outputs": [
    {
     "name": "stdout",
     "output_type": "stream",
     "text": [
      "a =  3 ; m =  1 ; f =  3\n",
      "a is equal to f?  True\n",
      "a is not equal to f? False\n",
      "m is smaller than f?  True\n"
     ]
    }
   ],
   "source": [
    "# boolean operators will return true or false\n",
    "print(\"a = \", a, \"; m = \", m, \"; f = \", f)\n",
    "print(\"a is equal to f? \", a == f)\n",
    "print(\"a is not equal to f?\", a !=f)\n",
    "print(\"m is smaller than f? \", m < f)"
   ]
  }
 ],
 "metadata": {
  "kernelspec": {
   "display_name": "Python 3 (ipykernel)",
   "language": "python",
   "name": "python3"
  },
  "language_info": {
   "codemirror_mode": {
    "name": "ipython",
    "version": 3
   },
   "file_extension": ".py",
   "mimetype": "text/x-python",
   "name": "python",
   "nbconvert_exporter": "python",
   "pygments_lexer": "ipython3",
   "version": "3.8.11"
  }
 },
 "nbformat": 4,
 "nbformat_minor": 5
}
