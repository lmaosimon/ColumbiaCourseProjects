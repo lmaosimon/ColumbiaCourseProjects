{
 "cells": [
  {
   "cell_type": "markdown",
   "id": "92d93c8f",
   "metadata": {},
   "source": [
    "# <center>Analysis Challenge Assignment 1</center>\n",
    "### <center>Alex School Selction</center>\n",
    "<center>Author: Simon Chen</center>\n",
    "<center>Time: Sep 28, 2021</center>"
   ]
  },
  {
   "cell_type": "markdown",
   "id": "dfee3a34",
   "metadata": {},
   "source": [
    "&nbsp;"
   ]
  },
  {
   "cell_type": "markdown",
   "id": "a79353d3",
   "metadata": {},
   "source": [
    "#### 1. Criteria\n",
    "Alex wants to pursue a degree in Education. She wants to find the best school within U.S. with following requirements: <br>\n",
    "1. Safety (low crime)\n",
    "2. Urban (big city preferred)\n",
    "3. Diversity (diverse culture)\n",
    "4. Quality (decent program, but need to be defined)"
   ]
  },
  {
   "cell_type": "markdown",
   "id": "a572adb9",
   "metadata": {},
   "source": [
    "#### 2. Tasks\n",
    "1. Create a dataset with limited information(e.g., crime rate, admission rate) to meet criteria.\n",
    "2. Keep record of code and descriptions to explain designed approach."
   ]
  },
  {
   "cell_type": "code",
   "execution_count": null,
   "id": "7e3ef566",
   "metadata": {},
   "outputs": [],
   "source": []
  }
 ],
 "metadata": {
  "kernelspec": {
   "display_name": "Python 3 (ipykernel)",
   "language": "python",
   "name": "python3"
  },
  "language_info": {
   "codemirror_mode": {
    "name": "ipython",
    "version": 3
   },
   "file_extension": ".py",
   "mimetype": "text/x-python",
   "name": "python",
   "nbconvert_exporter": "python",
   "pygments_lexer": "ipython3",
   "version": "3.8.11"
  }
 },
 "nbformat": 4,
 "nbformat_minor": 5
}
