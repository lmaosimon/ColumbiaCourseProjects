{
 "cells": [
  {
   "cell_type": "markdown",
   "id": "dfee3a34",
   "metadata": {
    "id": "dfee3a34"
   },
   "source": [
    "&nbsp;"
   ]
  },
  {
   "cell_type": "markdown",
   "id": "92d93c8f",
   "metadata": {
    "id": "92d93c8f"
   },
   "source": [
    "# <center>Analysis Challenge Assignment 1</center>\n",
    "### <center>Alex School Selction</center>\n",
    "<center>Author: Simon Chen, Jianan Dingqian</center>\n",
    "<center>Time: Sep 28, 2021</center>"
   ]
  },
  {
   "cell_type": "markdown",
   "id": "a79353d3",
   "metadata": {
    "id": "a79353d3"
   },
   "source": [
    "#### **1. Criteria**\n"
   ]
  },
  {
   "cell_type": "markdown",
   "id": "xdhMpMERV1lj",
   "metadata": {
    "id": "xdhMpMERV1lj"
   },
   "source": [
    "Alex wants to pursue a degree in Education. She wants to find the best school within U.S. with following requirements: <br>\n",
    "1. Safety (low crime)\n",
    "2. Urban (big city preferred)\n",
    "3. Diversity (diverse culture)\n",
    "4. Quality (decent program, but need to be defined)"
   ]
  },
  {
   "cell_type": "markdown",
   "id": "a572adb9",
   "metadata": {
    "id": "a572adb9"
   },
   "source": [
    "#### 2. Tasks\n"
   ]
  },
  {
   "cell_type": "markdown",
   "id": "tAtSUsLGVwWM",
   "metadata": {
    "id": "tAtSUsLGVwWM"
   },
   "source": [
    "1. Create a dataset with limited information(e.g., crime rate, admission rate) to meet criteria.\n",
    "2. Keep record of code and descriptions to explain designed approach.\n",
    "3. Create a rule to rank the schools in consideration of all of Alex criteria taken together. (Bonus)\n"
   ]
  },
  {
   "cell_type": "markdown",
   "id": "KgXbIlwWVHu5",
   "metadata": {
    "id": "KgXbIlwWVHu5"
   },
   "source": [
    "#### 3. Import"
   ]
  },
  {
   "cell_type": "markdown",
   "id": "iWwYmAtPVbeq",
   "metadata": {
    "id": "iWwYmAtPVbeq"
   },
   "source": [
    "\n",
    "###### a. Crime data\n",
    "\n"
   ]
  },
  {
   "cell_type": "code",
   "execution_count": 19,
   "id": "x_tLQCTnWKcY",
   "metadata": {
    "colab": {
     "base_uri": "https://localhost:8080/",
     "height": 830
    },
    "id": "x_tLQCTnWKcY",
    "outputId": "9b27e920-76bf-48f3-b062-eb154b83ec1c"
   },
   "outputs": [
    {
     "name": "stderr",
     "output_type": "stream",
     "text": [
      "/var/folders/dk/0mc07v5d6_76957h6trqmgzh0000gn/T/ipykernel_59522/982139797.py:7: FutureWarning: Dropping of nuisance columns in DataFrame reductions (with 'numeric_only=None') is deprecated; in a future version this will raise TypeError.  Select only valid columns before calling the reduction.\n",
      "  crime_data['Rates'] = crime_data.sum(axis=1)\n"
     ]
    },
    {
     "data": {
      "text/html": [
       "<div>\n",
       "<style scoped>\n",
       "    .dataframe tbody tr th:only-of-type {\n",
       "        vertical-align: middle;\n",
       "    }\n",
       "\n",
       "    .dataframe tbody tr th {\n",
       "        vertical-align: top;\n",
       "    }\n",
       "\n",
       "    .dataframe thead th {\n",
       "        text-align: right;\n",
       "    }\n",
       "</style>\n",
       "<table border=\"1\" class=\"dataframe\">\n",
       "  <thead>\n",
       "    <tr style=\"text-align: right;\">\n",
       "      <th></th>\n",
       "      <th>MSA</th>\n",
       "      <th>ViolentCrime</th>\n",
       "      <th>Murder</th>\n",
       "      <th>Rape</th>\n",
       "      <th>Robbery</th>\n",
       "      <th>AggravatedAssault</th>\n",
       "      <th>PropertyCrime</th>\n",
       "      <th>Burglary</th>\n",
       "      <th>Theft</th>\n",
       "      <th>MotorVehicleTheft</th>\n",
       "      <th>State</th>\n",
       "      <th>City</th>\n",
       "      <th>Rates</th>\n",
       "    </tr>\n",
       "  </thead>\n",
       "  <tbody>\n",
       "    <tr>\n",
       "      <th>193</th>\n",
       "      <td>Logan, UT-ID M.S.A.</td>\n",
       "      <td>61.6</td>\n",
       "      <td>0.8</td>\n",
       "      <td>33.1</td>\n",
       "      <td>2.3</td>\n",
       "      <td>25.5</td>\n",
       "      <td>1,201.2</td>\n",
       "      <td>208.1</td>\n",
       "      <td>950.3</td>\n",
       "      <td>42.8</td>\n",
       "      <td>UT</td>\n",
       "      <td>Logan</td>\n",
       "      <td>104.5</td>\n",
       "    </tr>\n",
       "    <tr>\n",
       "      <th>20</th>\n",
       "      <td>Bangor, ME M.S.A.</td>\n",
       "      <td>67.3</td>\n",
       "      <td>2.0</td>\n",
       "      <td>9.1</td>\n",
       "      <td>17.6</td>\n",
       "      <td>38.5</td>\n",
       "      <td>1,984.5</td>\n",
       "      <td>337.0</td>\n",
       "      <td>1,604.4</td>\n",
       "      <td>43.1</td>\n",
       "      <td>ME</td>\n",
       "      <td>Bangor</td>\n",
       "      <td>110.3</td>\n",
       "    </tr>\n",
       "    <tr>\n",
       "      <th>376</th>\n",
       "      <td>San German, Puerto Rico M.S.A.</td>\n",
       "      <td>92.1</td>\n",
       "      <td>5.4</td>\n",
       "      <td>4.6</td>\n",
       "      <td>16.1</td>\n",
       "      <td>66.0</td>\n",
       "      <td>420.0</td>\n",
       "      <td>168.9</td>\n",
       "      <td>226.5</td>\n",
       "      <td>24.6</td>\n",
       "      <td>San German, Puerto Rico M.S.A.</td>\n",
       "      <td>San German</td>\n",
       "      <td>116.7</td>\n",
       "    </tr>\n",
       "  </tbody>\n",
       "</table>\n",
       "</div>"
      ],
      "text/plain": [
       "                                MSA ViolentCrime  Murder  Rape  Robbery  \\\n",
       "193             Logan, UT-ID M.S.A.         61.6     0.8  33.1      2.3   \n",
       "20                Bangor, ME M.S.A.         67.3     2.0   9.1     17.6   \n",
       "376  San German, Puerto Rico M.S.A.         92.1     5.4   4.6     16.1   \n",
       "\n",
       "     AggravatedAssault PropertyCrime Burglary    Theft  MotorVehicleTheft  \\\n",
       "193               25.5       1,201.2    208.1    950.3               42.8   \n",
       "20                38.5       1,984.5    337.0  1,604.4               43.1   \n",
       "376               66.0         420.0    168.9    226.5               24.6   \n",
       "\n",
       "                              State        City  Rates  \n",
       "193                              UT       Logan  104.5  \n",
       "20                               ME      Bangor  110.3  \n",
       "376  San German, Puerto Rico M.S.A.  San German  116.7  "
      ]
     },
     "execution_count": 19,
     "metadata": {},
     "output_type": "execute_result"
    }
   ],
   "source": [
    "# Import libraries.\n",
    "import pandas as pd\n",
    "# Reading the crime data in 2015 from shareable link into Pandas.\n",
    "crime_data = pd.read_csv('Crime_2015.csv')\n",
    "# Since the reports number is the rates of reported offenses per 100,000 population.\n",
    "# So we could just sum them up for each city to get the total rates by creating a new column rates.\n",
    "crime_data['Rates'] = crime_data.sum(axis=1)\n",
    "\n",
    "# This table is now arranging cities from Hige crime rate to Low crime rate\n",
    "crime_data = crime_data.sort_values(by='Rates') \n",
    "crime_data.head(3)"
   ]
  },
  {
   "cell_type": "markdown",
   "id": "8hzGnUFTjPbr",
   "metadata": {
    "id": "8hzGnUFTjPbr"
   },
   "source": [
    ">###### b. College Scorecard data"
   ]
  },
  {
   "cell_type": "code",
   "execution_count": 106,
   "id": "w-tzeAY6jg7y",
   "metadata": {
    "colab": {
     "base_uri": "https://localhost:8080/",
     "height": 1000
    },
    "id": "w-tzeAY6jg7y",
    "outputId": "aec7cfdb-6845-4dc2-f2b5-1732d4908413"
   },
   "outputs": [
    {
     "name": "stderr",
     "output_type": "stream",
     "text": [
      "/Users/simon/opt/anaconda3/envs/HUDK4050/lib/python3.8/site-packages/IPython/core/interactiveshell.py:3441: DtypeWarning: Columns (7,9,1427,1542,1561,1575,1725,1726,1727,1728) have mixed types.Specify dtype option on import or set low_memory=False.\n",
      "  exec(code_obj, self.user_global_ns, self.user_ns)\n"
     ]
    },
    {
     "data": {
      "text/html": [
       "<div>\n",
       "<style scoped>\n",
       "    .dataframe tbody tr th:only-of-type {\n",
       "        vertical-align: middle;\n",
       "    }\n",
       "\n",
       "    .dataframe tbody tr th {\n",
       "        vertical-align: top;\n",
       "    }\n",
       "\n",
       "    .dataframe thead th {\n",
       "        text-align: right;\n",
       "    }\n",
       "</style>\n",
       "<table border=\"1\" class=\"dataframe\">\n",
       "  <thead>\n",
       "    <tr style=\"text-align: right;\">\n",
       "      <th></th>\n",
       "      <th>UNITID</th>\n",
       "      <th>OPEID</th>\n",
       "      <th>opeid6</th>\n",
       "      <th>INSTNM</th>\n",
       "      <th>CITY</th>\n",
       "      <th>STABBR</th>\n",
       "      <th>ZIP</th>\n",
       "      <th>AccredAgency</th>\n",
       "      <th>INSTURL</th>\n",
       "      <th>NPCURL</th>\n",
       "      <th>...</th>\n",
       "      <th>PELL_RPY_3YR_RT_SUPP</th>\n",
       "      <th>NOPELL_RPY_3YR_RT_SUPP</th>\n",
       "      <th>FEMALE_RPY_3YR_RT_SUPP</th>\n",
       "      <th>MALE_RPY_3YR_RT_SUPP</th>\n",
       "      <th>FIRSTGEN_RPY_3YR_RT_SUPP</th>\n",
       "      <th>NOTFIRSTGEN_RPY_3YR_RT_SUPP</th>\n",
       "      <th>C150_L4_POOLED_SUPP</th>\n",
       "      <th>C150_4_POOLED_SUPP</th>\n",
       "      <th>C200_L4_POOLED_SUPP</th>\n",
       "      <th>C200_4_POOLED_SUPP</th>\n",
       "    </tr>\n",
       "  </thead>\n",
       "  <tbody>\n",
       "    <tr>\n",
       "      <th>0</th>\n",
       "      <td>100654</td>\n",
       "      <td>100200</td>\n",
       "      <td>1002</td>\n",
       "      <td>Alabama A &amp; M University</td>\n",
       "      <td>Normal</td>\n",
       "      <td>AL</td>\n",
       "      <td>35762</td>\n",
       "      <td>Southern Association of Colleges and Schools C...</td>\n",
       "      <td>www.aamu.edu/</td>\n",
       "      <td>galileo.aamu.edu/netpricecalculator/npcalc.htm</td>\n",
       "      <td>...</td>\n",
       "      <td>0.443586698337</td>\n",
       "      <td>0.45251396648</td>\n",
       "      <td>0.484818805093</td>\n",
       "      <td>0.406</td>\n",
       "      <td>0.423580786026</td>\n",
       "      <td>0.442452830189</td>\n",
       "      <td>NaN</td>\n",
       "      <td>0.30871831265508</td>\n",
       "      <td>NaN</td>\n",
       "      <td>0.35168556430446</td>\n",
       "    </tr>\n",
       "    <tr>\n",
       "      <th>1</th>\n",
       "      <td>100663</td>\n",
       "      <td>105200</td>\n",
       "      <td>1052</td>\n",
       "      <td>University of Alabama at Birmingham</td>\n",
       "      <td>Birmingham</td>\n",
       "      <td>AL</td>\n",
       "      <td>35294-0110</td>\n",
       "      <td>Southern Association of Colleges and Schools C...</td>\n",
       "      <td>www.uab.edu</td>\n",
       "      <td>www.collegeportraits.org/AL/UAB/estimator/agree</td>\n",
       "      <td>...</td>\n",
       "      <td>0.732297852901</td>\n",
       "      <td>0.795454545455</td>\n",
       "      <td>0.760521885522</td>\n",
       "      <td>0.755344418052</td>\n",
       "      <td>0.751552795031</td>\n",
       "      <td>0.765074770863</td>\n",
       "      <td>NaN</td>\n",
       "      <td>0.50854980789381</td>\n",
       "      <td>NaN</td>\n",
       "      <td>0.4730923834537</td>\n",
       "    </tr>\n",
       "    <tr>\n",
       "      <th>2</th>\n",
       "      <td>100690</td>\n",
       "      <td>2503400</td>\n",
       "      <td>25034</td>\n",
       "      <td>Amridge University</td>\n",
       "      <td>Montgomery</td>\n",
       "      <td>AL</td>\n",
       "      <td>36117-3553</td>\n",
       "      <td>Southern Association of Colleges and Schools C...</td>\n",
       "      <td>www.amridgeuniversity.edu</td>\n",
       "      <td>tcc.noellevitz.com/(S(miwoihs5stz5cpyifh4nczu0...</td>\n",
       "      <td>...</td>\n",
       "      <td>0.600877192982</td>\n",
       "      <td>0.775</td>\n",
       "      <td>0.610465116279</td>\n",
       "      <td>0.686567164179</td>\n",
       "      <td>0.632653061224</td>\n",
       "      <td>0.65</td>\n",
       "      <td>NaN</td>\n",
       "      <td>PrivacySuppressed</td>\n",
       "      <td>NaN</td>\n",
       "      <td>PrivacySuppressed</td>\n",
       "    </tr>\n",
       "  </tbody>\n",
       "</table>\n",
       "<p>3 rows × 1729 columns</p>\n",
       "</div>"
      ],
      "text/plain": [
       "   UNITID    OPEID  opeid6                               INSTNM        CITY  \\\n",
       "0  100654   100200    1002             Alabama A & M University      Normal   \n",
       "1  100663   105200    1052  University of Alabama at Birmingham  Birmingham   \n",
       "2  100690  2503400   25034                   Amridge University  Montgomery   \n",
       "\n",
       "  STABBR         ZIP                                       AccredAgency  \\\n",
       "0     AL       35762  Southern Association of Colleges and Schools C...   \n",
       "1     AL  35294-0110  Southern Association of Colleges and Schools C...   \n",
       "2     AL  36117-3553  Southern Association of Colleges and Schools C...   \n",
       "\n",
       "                     INSTURL  \\\n",
       "0              www.aamu.edu/   \n",
       "1                www.uab.edu   \n",
       "2  www.amridgeuniversity.edu   \n",
       "\n",
       "                                              NPCURL  ...  \\\n",
       "0     galileo.aamu.edu/netpricecalculator/npcalc.htm  ...   \n",
       "1    www.collegeportraits.org/AL/UAB/estimator/agree  ...   \n",
       "2  tcc.noellevitz.com/(S(miwoihs5stz5cpyifh4nczu0...  ...   \n",
       "\n",
       "   PELL_RPY_3YR_RT_SUPP  NOPELL_RPY_3YR_RT_SUPP  FEMALE_RPY_3YR_RT_SUPP  \\\n",
       "0        0.443586698337           0.45251396648          0.484818805093   \n",
       "1        0.732297852901          0.795454545455          0.760521885522   \n",
       "2        0.600877192982                   0.775          0.610465116279   \n",
       "\n",
       "   MALE_RPY_3YR_RT_SUPP  FIRSTGEN_RPY_3YR_RT_SUPP  \\\n",
       "0                 0.406            0.423580786026   \n",
       "1        0.755344418052            0.751552795031   \n",
       "2        0.686567164179            0.632653061224   \n",
       "\n",
       "   NOTFIRSTGEN_RPY_3YR_RT_SUPP  C150_L4_POOLED_SUPP  C150_4_POOLED_SUPP  \\\n",
       "0               0.442452830189                  NaN    0.30871831265508   \n",
       "1               0.765074770863                  NaN    0.50854980789381   \n",
       "2                         0.65                  NaN   PrivacySuppressed   \n",
       "\n",
       "   C200_L4_POOLED_SUPP  C200_4_POOLED_SUPP  \n",
       "0                  NaN    0.35168556430446  \n",
       "1                  NaN     0.4730923834537  \n",
       "2                  NaN   PrivacySuppressed  \n",
       "\n",
       "[3 rows x 1729 columns]"
      ]
     },
     "execution_count": 106,
     "metadata": {},
     "output_type": "execute_result"
    }
   ],
   "source": [
    "# Reading College Scorecard data in pandas df.\n",
    "college_data = pd.read_csv('CollegeScorecard.csv')\n",
    "college_data.head(3)"
   ]
  },
  {
   "cell_type": "code",
   "execution_count": 108,
   "id": "6392c115",
   "metadata": {},
   "outputs": [],
   "source": [
    "# Change STABBR to State for merge purpose.\n",
    "college_data.rename(columns = {'CITY':'City', 'STABBR':'State'}, inplace = True)"
   ]
  },
  {
   "cell_type": "markdown",
   "id": "QHMbBhP2VWGz",
   "metadata": {
    "id": "QHMbBhP2VWGz"
   },
   "source": [
    "#### **4. Cleaning and Processing data**"
   ]
  },
  {
   "cell_type": "markdown",
   "id": "ClQ8mpQdVtHG",
   "metadata": {
    "id": "ClQ8mpQdVtHG"
   },
   "source": [
    "\n",
    "\n",
    "###### a. Merge datasets\n",
    "\n",
    "\n",
    "\n",
    "\n",
    "\n",
    "\n"
   ]
  },
  {
   "cell_type": "code",
   "execution_count": 117,
   "id": "l1odBtg1LSK_",
   "metadata": {
    "id": "l1odBtg1LSK_"
   },
   "outputs": [
    {
     "name": "stderr",
     "output_type": "stream",
     "text": [
      "/var/folders/dk/0mc07v5d6_76957h6trqmgzh0000gn/T/ipykernel_59522/1486386492.py:4: FutureWarning: Dropping of nuisance columns in DataFrame reductions (with 'numeric_only=None') is deprecated; in a future version this will raise TypeError.  Select only valid columns before calling the reduction.\n",
      "  crime_data['rates'] = crime_data.sum(axis=1)\n"
     ]
    },
    {
     "data": {
      "text/html": [
       "<div>\n",
       "<style scoped>\n",
       "    .dataframe tbody tr th:only-of-type {\n",
       "        vertical-align: middle;\n",
       "    }\n",
       "\n",
       "    .dataframe tbody tr th {\n",
       "        vertical-align: top;\n",
       "    }\n",
       "\n",
       "    .dataframe thead th {\n",
       "        text-align: right;\n",
       "    }\n",
       "</style>\n",
       "<table border=\"1\" class=\"dataframe\">\n",
       "  <thead>\n",
       "    <tr style=\"text-align: right;\">\n",
       "      <th></th>\n",
       "      <th>UNITID</th>\n",
       "      <th>OPEID</th>\n",
       "      <th>opeid6</th>\n",
       "      <th>INSTNM</th>\n",
       "      <th>City</th>\n",
       "      <th>State</th>\n",
       "      <th>ZIP</th>\n",
       "      <th>AccredAgency</th>\n",
       "      <th>INSTURL</th>\n",
       "      <th>NPCURL</th>\n",
       "      <th>...</th>\n",
       "      <th>Murder</th>\n",
       "      <th>Rape</th>\n",
       "      <th>Robbery</th>\n",
       "      <th>AggravatedAssault</th>\n",
       "      <th>PropertyCrime</th>\n",
       "      <th>Burglary</th>\n",
       "      <th>Theft</th>\n",
       "      <th>MotorVehicleTheft</th>\n",
       "      <th>Rates</th>\n",
       "      <th>rates</th>\n",
       "    </tr>\n",
       "  </thead>\n",
       "  <tbody>\n",
       "    <tr>\n",
       "      <th>0</th>\n",
       "      <td>100663</td>\n",
       "      <td>105200</td>\n",
       "      <td>1052</td>\n",
       "      <td>University of Alabama at Birmingham</td>\n",
       "      <td>Birmingham</td>\n",
       "      <td>AL</td>\n",
       "      <td>35294-0110</td>\n",
       "      <td>Southern Association of Colleges and Schools C...</td>\n",
       "      <td>www.uab.edu</td>\n",
       "      <td>www.collegeportraits.org/AL/UAB/estimator/agree</td>\n",
       "      <td>...</td>\n",
       "      <td>11.1</td>\n",
       "      <td>46.2</td>\n",
       "      <td>157.7</td>\n",
       "      <td>467.1</td>\n",
       "      <td>3,344.9</td>\n",
       "      <td>817.6</td>\n",
       "      <td>2,262.0</td>\n",
       "      <td>265.3</td>\n",
       "      <td>947.4</td>\n",
       "      <td>17053.2</td>\n",
       "    </tr>\n",
       "    <tr>\n",
       "      <th>1</th>\n",
       "      <td>100937</td>\n",
       "      <td>101200</td>\n",
       "      <td>1012</td>\n",
       "      <td>Birmingham Southern College</td>\n",
       "      <td>Birmingham</td>\n",
       "      <td>AL</td>\n",
       "      <td>35254</td>\n",
       "      <td>Southern Association of Colleges and Schools C...</td>\n",
       "      <td>www.bsc.edu/</td>\n",
       "      <td>www.bsc.edu/fp/np-calculator.cfm</td>\n",
       "      <td>...</td>\n",
       "      <td>11.1</td>\n",
       "      <td>46.2</td>\n",
       "      <td>157.7</td>\n",
       "      <td>467.1</td>\n",
       "      <td>3,344.9</td>\n",
       "      <td>817.6</td>\n",
       "      <td>2,262.0</td>\n",
       "      <td>265.3</td>\n",
       "      <td>947.4</td>\n",
       "      <td>17053.2</td>\n",
       "    </tr>\n",
       "    <tr>\n",
       "      <th>2</th>\n",
       "      <td>101365</td>\n",
       "      <td>962107</td>\n",
       "      <td>9621</td>\n",
       "      <td>Herzing University-Birmingham</td>\n",
       "      <td>Birmingham</td>\n",
       "      <td>AL</td>\n",
       "      <td>35209</td>\n",
       "      <td>NaN</td>\n",
       "      <td>www.herzing.edu/birmingham</td>\n",
       "      <td>www.herzing.edu/financial-aid/net-price-calcul...</td>\n",
       "      <td>...</td>\n",
       "      <td>11.1</td>\n",
       "      <td>46.2</td>\n",
       "      <td>157.7</td>\n",
       "      <td>467.1</td>\n",
       "      <td>3,344.9</td>\n",
       "      <td>817.6</td>\n",
       "      <td>2,262.0</td>\n",
       "      <td>265.3</td>\n",
       "      <td>947.4</td>\n",
       "      <td>17053.2</td>\n",
       "    </tr>\n",
       "  </tbody>\n",
       "</table>\n",
       "<p>3 rows × 1743 columns</p>\n",
       "</div>"
      ],
      "text/plain": [
       "   UNITID   OPEID  opeid6                               INSTNM        City  \\\n",
       "0  100663  105200    1052  University of Alabama at Birmingham  Birmingham   \n",
       "1  100937  101200    1012          Birmingham Southern College  Birmingham   \n",
       "2  101365  962107    9621        Herzing University-Birmingham  Birmingham   \n",
       "\n",
       "  State         ZIP                                       AccredAgency  \\\n",
       "0    AL  35294-0110  Southern Association of Colleges and Schools C...   \n",
       "1    AL       35254  Southern Association of Colleges and Schools C...   \n",
       "2    AL       35209                                                NaN   \n",
       "\n",
       "                      INSTURL  \\\n",
       "0                 www.uab.edu   \n",
       "1                www.bsc.edu/   \n",
       "2  www.herzing.edu/birmingham   \n",
       "\n",
       "                                              NPCURL  ...  Murder  Rape  \\\n",
       "0    www.collegeportraits.org/AL/UAB/estimator/agree  ...    11.1  46.2   \n",
       "1                   www.bsc.edu/fp/np-calculator.cfm  ...    11.1  46.2   \n",
       "2  www.herzing.edu/financial-aid/net-price-calcul...  ...    11.1  46.2   \n",
       "\n",
       "   Robbery  AggravatedAssault  PropertyCrime  Burglary    Theft  \\\n",
       "0    157.7              467.1        3,344.9     817.6  2,262.0   \n",
       "1    157.7              467.1        3,344.9     817.6  2,262.0   \n",
       "2    157.7              467.1        3,344.9     817.6  2,262.0   \n",
       "\n",
       "   MotorVehicleTheft  Rates    rates  \n",
       "0              265.3  947.4  17053.2  \n",
       "1              265.3  947.4  17053.2  \n",
       "2              265.3  947.4  17053.2  \n",
       "\n",
       "[3 rows x 1743 columns]"
      ]
     },
     "execution_count": 117,
     "metadata": {},
     "output_type": "execute_result"
    }
   ],
   "source": [
    "# Then we rank the score to get a SafetyScore\n",
    "# Since the reports number is the rates of reported offenses per 100,000 population.\n",
    "# So we could just sum them up for each city to get the total rates by creating a new column rates.\n",
    "\n",
    "# Merge two datasets by States and City.\n",
    "combined_data = pd.merge(college_data, crime_data, on = ['State', 'City'])\n",
    "combined_data.head(3)"
   ]
  },
  {
   "cell_type": "markdown",
   "id": "a33c2eed",
   "metadata": {},
   "source": [
    "###### b. Process data"
   ]
  },
  {
   "cell_type": "markdown",
   "id": "0096ab1d",
   "metadata": {},
   "source": [
    "*Urban*\n",
    "\n",
    ">Determine urban by LOCALE data:<br>\n",
    "11 -- City: Large (population of 250,000 or more)<br>\n",
    "12 -- City: Midsize (population of at least 100,000 but less than 250,000)<br>\n",
    "12 -- City: Small (population less than 100,000)"
   ]
  },
  {
   "cell_type": "code",
   "execution_count": 118,
   "id": "9935ee9b",
   "metadata": {
    "id": "Kc2dWwqSLXd5"
   },
   "outputs": [
    {
     "data": {
      "text/html": [
       "<div>\n",
       "<style scoped>\n",
       "    .dataframe tbody tr th:only-of-type {\n",
       "        vertical-align: middle;\n",
       "    }\n",
       "\n",
       "    .dataframe tbody tr th {\n",
       "        vertical-align: top;\n",
       "    }\n",
       "\n",
       "    .dataframe thead th {\n",
       "        text-align: right;\n",
       "    }\n",
       "</style>\n",
       "<table border=\"1\" class=\"dataframe\">\n",
       "  <thead>\n",
       "    <tr style=\"text-align: right;\">\n",
       "      <th></th>\n",
       "      <th>INSTNM</th>\n",
       "      <th>City</th>\n",
       "      <th>State</th>\n",
       "      <th>LOCALE</th>\n",
       "    </tr>\n",
       "  </thead>\n",
       "  <tbody>\n",
       "    <tr>\n",
       "      <th>0</th>\n",
       "      <td>University of Alabama at Birmingham</td>\n",
       "      <td>Birmingham</td>\n",
       "      <td>AL</td>\n",
       "      <td>12.0</td>\n",
       "    </tr>\n",
       "    <tr>\n",
       "      <th>1</th>\n",
       "      <td>Birmingham Southern College</td>\n",
       "      <td>Birmingham</td>\n",
       "      <td>AL</td>\n",
       "      <td>12.0</td>\n",
       "    </tr>\n",
       "    <tr>\n",
       "      <th>3</th>\n",
       "      <td>Jefferson State Community College</td>\n",
       "      <td>Birmingham</td>\n",
       "      <td>AL</td>\n",
       "      <td>12.0</td>\n",
       "    </tr>\n",
       "  </tbody>\n",
       "</table>\n",
       "</div>"
      ],
      "text/plain": [
       "                                INSTNM        City State  LOCALE\n",
       "0  University of Alabama at Birmingham  Birmingham    AL    12.0\n",
       "1          Birmingham Southern College  Birmingham    AL    12.0\n",
       "3    Jefferson State Community College  Birmingham    AL    12.0"
      ]
     },
     "execution_count": 118,
     "metadata": {},
     "output_type": "execute_result"
    }
   ],
   "source": [
    "urban_dat = combined_data.filter(['INSTNM', 'City', 'State', 'LOCALE'], axis=1)\n",
    "# Filter the city by 11, 12, 13.\n",
    "raw_dat = urban_dat[(urban_dat['LOCALE'] >= 11) & (urban_dat['LOCALE'] <= 13)]\n",
    "raw_dat.head(3)"
   ]
  },
  {
   "cell_type": "markdown",
   "id": "635934ac",
   "metadata": {},
   "source": [
    "*Diversity*\n",
    "\n",
    "> Use sum of <br>\n",
    "UGDS_BLACK, UGDS_HISP, UGDS_ASIAN, UGDS_AIAN, UGDS_NHPI<br>to determine the Minority shares.\n",
    "Higher values means more diverse. (I assume)..\n",
    "If there is UG_WHITENH data, this would be simple."
   ]
  },
  {
   "cell_type": "code",
   "execution_count": 119,
   "id": "vvatA4b_LeFm",
   "metadata": {
    "colab": {
     "base_uri": "https://localhost:8080/",
     "height": 419
    },
    "id": "vvatA4b_LeFm",
    "outputId": "289ad124-5e2b-4e58-b511-3761de3cdbec"
   },
   "outputs": [
    {
     "name": "stderr",
     "output_type": "stream",
     "text": [
      "/var/folders/dk/0mc07v5d6_76957h6trqmgzh0000gn/T/ipykernel_59522/3117692375.py:5: SettingWithCopyWarning: \n",
      "A value is trying to be set on a copy of a slice from a DataFrame.\n",
      "Try using .loc[row_indexer,col_indexer] = value instead\n",
      "\n",
      "See the caveats in the documentation: https://pandas.pydata.org/pandas-docs/stable/user_guide/indexing.html#returning-a-view-versus-a-copy\n",
      "  raw_dat['Diversity'] = raw_dat.merge(college_data, on = ['City', 'State'])['Diversity']\n"
     ]
    },
    {
     "data": {
      "text/html": [
       "<div>\n",
       "<style scoped>\n",
       "    .dataframe tbody tr th:only-of-type {\n",
       "        vertical-align: middle;\n",
       "    }\n",
       "\n",
       "    .dataframe tbody tr th {\n",
       "        vertical-align: top;\n",
       "    }\n",
       "\n",
       "    .dataframe thead th {\n",
       "        text-align: right;\n",
       "    }\n",
       "</style>\n",
       "<table border=\"1\" class=\"dataframe\">\n",
       "  <thead>\n",
       "    <tr style=\"text-align: right;\">\n",
       "      <th></th>\n",
       "      <th>INSTNM</th>\n",
       "      <th>City</th>\n",
       "      <th>State</th>\n",
       "      <th>LOCALE</th>\n",
       "      <th>Diversity</th>\n",
       "    </tr>\n",
       "  </thead>\n",
       "  <tbody>\n",
       "    <tr>\n",
       "      <th>0</th>\n",
       "      <td>University of Alabama at Birmingham</td>\n",
       "      <td>Birmingham</td>\n",
       "      <td>AL</td>\n",
       "      <td>12.0</td>\n",
       "      <td>0.3392</td>\n",
       "    </tr>\n",
       "    <tr>\n",
       "      <th>1</th>\n",
       "      <td>Birmingham Southern College</td>\n",
       "      <td>Birmingham</td>\n",
       "      <td>AL</td>\n",
       "      <td>12.0</td>\n",
       "      <td>0.1737</td>\n",
       "    </tr>\n",
       "    <tr>\n",
       "      <th>3</th>\n",
       "      <td>Jefferson State Community College</td>\n",
       "      <td>Birmingham</td>\n",
       "      <td>AL</td>\n",
       "      <td>12.0</td>\n",
       "      <td>0.2759</td>\n",
       "    </tr>\n",
       "  </tbody>\n",
       "</table>\n",
       "</div>"
      ],
      "text/plain": [
       "                                INSTNM        City State  LOCALE  Diversity\n",
       "0  University of Alabama at Birmingham  Birmingham    AL    12.0     0.3392\n",
       "1          Birmingham Southern College  Birmingham    AL    12.0     0.1737\n",
       "3    Jefferson State Community College  Birmingham    AL    12.0     0.2759"
      ]
     },
     "execution_count": 119,
     "metadata": {},
     "output_type": "execute_result"
    }
   ],
   "source": [
    "# To get the sum of UGDS_BLACK, UGDS_HISP, UGDS_ASIAN, UGDS_AIAN, UGDS_NHPI to determine the Minority shares.\n",
    "college_data['Diversity'] = college_data.iloc[:, college_data.columns.get_loc('UGDS_BLACK'):\n",
    "                                             college_data.columns.get_loc('UGDS_NHPI')].sum(axis=1)\n",
    "# To add the Diversity column from college data.\n",
    "raw_dat['Diversity'] = raw_dat.merge(college_data, on = ['City', 'State'])['Diversity']\n",
    "raw_dat.head(3)"
   ]
  },
  {
   "cell_type": "markdown",
   "id": "dd284f7b",
   "metadata": {
    "id": "p9ckHbxfMWVO"
   },
   "source": [
    "*Quality*\n",
    "\n",
    "> In order to define a decent educational program, we are taking the following types of data into consideration:\n",
    "> 1. Percentage of degrees awarded in Education.\n",
    "> 2. Certificate of less than one academic year in Education.\n",
    "> 3. Certificate of at least one but less than two academic years in Education.\n",
    "> 4. Associate degree in Education.\n",
    "> 5. Award of more than two but less than four academic years in Education."
   ]
  },
  {
   "cell_type": "code",
   "execution_count": 120,
   "id": "3865d200",
   "metadata": {
    "id": "957pd4yjND1y"
   },
   "outputs": [
    {
     "name": "stderr",
     "output_type": "stream",
     "text": [
      "/var/folders/dk/0mc07v5d6_76957h6trqmgzh0000gn/T/ipykernel_59522/2360730570.py:6: SettingWithCopyWarning: \n",
      "A value is trying to be set on a copy of a slice from a DataFrame.\n",
      "Try using .loc[row_indexer,col_indexer] = value instead\n",
      "\n",
      "See the caveats in the documentation: https://pandas.pydata.org/pandas-docs/stable/user_guide/indexing.html#returning-a-view-versus-a-copy\n",
      "  raw_dat['Quality'] = raw_dat.merge(college_data, on = ['City', 'State'])['Quality']\n"
     ]
    },
    {
     "data": {
      "text/html": [
       "<div>\n",
       "<style scoped>\n",
       "    .dataframe tbody tr th:only-of-type {\n",
       "        vertical-align: middle;\n",
       "    }\n",
       "\n",
       "    .dataframe tbody tr th {\n",
       "        vertical-align: top;\n",
       "    }\n",
       "\n",
       "    .dataframe thead th {\n",
       "        text-align: right;\n",
       "    }\n",
       "</style>\n",
       "<table border=\"1\" class=\"dataframe\">\n",
       "  <thead>\n",
       "    <tr style=\"text-align: right;\">\n",
       "      <th></th>\n",
       "      <th>INSTNM</th>\n",
       "      <th>City</th>\n",
       "      <th>State</th>\n",
       "      <th>LOCALE</th>\n",
       "      <th>Diversity</th>\n",
       "      <th>Quality</th>\n",
       "    </tr>\n",
       "  </thead>\n",
       "  <tbody>\n",
       "    <tr>\n",
       "      <th>0</th>\n",
       "      <td>University of Alabama at Birmingham</td>\n",
       "      <td>Birmingham</td>\n",
       "      <td>AL</td>\n",
       "      <td>12.0</td>\n",
       "      <td>0.3392</td>\n",
       "      <td>2.0862</td>\n",
       "    </tr>\n",
       "    <tr>\n",
       "      <th>1</th>\n",
       "      <td>Birmingham Southern College</td>\n",
       "      <td>Birmingham</td>\n",
       "      <td>AL</td>\n",
       "      <td>12.0</td>\n",
       "      <td>0.1737</td>\n",
       "      <td>0.0731</td>\n",
       "    </tr>\n",
       "    <tr>\n",
       "      <th>3</th>\n",
       "      <td>Jefferson State Community College</td>\n",
       "      <td>Birmingham</td>\n",
       "      <td>AL</td>\n",
       "      <td>12.0</td>\n",
       "      <td>0.2759</td>\n",
       "      <td>0.0000</td>\n",
       "    </tr>\n",
       "  </tbody>\n",
       "</table>\n",
       "</div>"
      ],
      "text/plain": [
       "                                INSTNM        City State  LOCALE  Diversity  \\\n",
       "0  University of Alabama at Birmingham  Birmingham    AL    12.0     0.3392   \n",
       "1          Birmingham Southern College  Birmingham    AL    12.0     0.1737   \n",
       "3    Jefferson State Community College  Birmingham    AL    12.0     0.2759   \n",
       "\n",
       "   Quality  \n",
       "0   2.0862  \n",
       "1   0.0731  \n",
       "3   0.0000  "
      ]
     },
     "execution_count": 120,
     "metadata": {},
     "output_type": "execute_result"
    }
   ],
   "source": [
    "# To get the sum of 'PCIP13','CIP13CERT1','CIP13CERT2','CIP13CERT4','CIP13ASSOC' to determine the program quality.\n",
    "quality_names = ['PCIP13','CIP13CERT1','CIP13CERT2','CIP13CERT4','CIP13ASSOC']\n",
    "college_data['Quality'] = college_data[quality_names].sum(axis=1)\n",
    "\n",
    "# To add the quality column from college data.\n",
    "raw_dat['Quality'] = raw_dat.merge(college_data, on = ['City', 'State'])['Quality']\n",
    "raw_dat.head(3)"
   ]
  },
  {
   "cell_type": "code",
   "execution_count": null,
   "id": "fHGeIkl3NmB8",
   "metadata": {
    "id": "fHGeIkl3NmB8"
   },
   "outputs": [],
   "source": []
  }
 ],
 "metadata": {
  "colab": {
   "collapsed_sections": [
    "a572adb9",
    "iWwYmAtPVbeq",
    "8hzGnUFTjPbr"
   ],
   "name": "Analysis Challenge Assignment 1.ipynb",
   "provenance": [],
   "toc_visible": true
  },
  "kernelspec": {
   "display_name": "Python 3 (ipykernel)",
   "language": "python",
   "name": "python3"
  },
  "language_info": {
   "codemirror_mode": {
    "name": "ipython",
    "version": 3
   },
   "file_extension": ".py",
   "mimetype": "text/x-python",
   "name": "python",
   "nbconvert_exporter": "python",
   "pygments_lexer": "ipython3",
   "version": "3.8.11"
  }
 },
 "nbformat": 4,
 "nbformat_minor": 5
}
