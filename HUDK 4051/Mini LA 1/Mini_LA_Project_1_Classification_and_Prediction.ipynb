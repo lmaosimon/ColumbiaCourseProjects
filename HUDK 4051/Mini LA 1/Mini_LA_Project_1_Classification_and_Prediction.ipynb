{
  "nbformat": 4,
  "nbformat_minor": 0,
  "metadata": {
    "colab": {
      "name": "Mini LA Project 1 Classification and Prediction.ipynb",
      "provenance": [],
      "collapsed_sections": [],
      "toc_visible": true
    },
    "kernelspec": {
      "name": "python3",
      "display_name": "Python 3"
    },
    "language_info": {
      "name": "python"
    }
  },
  "cells": [
    {
      "cell_type": "markdown",
      "source": [
        "# Classification and Prediction\n",
        "Author: Simon"
      ],
      "metadata": {
        "id": "X00dr_k4BTUj"
      }
    },
    {
      "cell_type": "markdown",
      "source": [
        "## Introduction\n",
        "Many universities have a problem with students over-enrolling in courses at the beginning of semester and then dropping most of them as the make decisions about which classes to attend. This makes it difficult to plan for the semester and allocate resources. However, schools don’t want to restrict the choice of their students. One solution is to create predictions of which students are likley to drop out of which courses and use these predictions to inform semester planning."
      ],
      "metadata": {
        "id": "_PQL7t7CDK2x"
      }
    },
    {
      "cell_type": "markdown",
      "source": [
        "### Objectives\n",
        "In this assignment you will modelling student data using at least two classification algorithms. We will:\n",
        "\n",
        ">1. use multiple algorithms to attempt to predict which students drop out of courses,\n",
        "2. evaluate the performance of the algorithms\n",
        "3. discuss the advantages/disadvantages of each algorithms"
      ],
      "metadata": {
        "id": "wqdjDY8ODwAV"
      }
    },
    {
      "cell_type": "markdown",
      "source": [
        "### Data\n",
        "\n",
        "The data comes from a university registrar’s office. Your task is to build a classifier that can predict whether a student will drop out from the course or not (i.e., the complete variable) given a set of features that you choose.\n",
        "\n",
        "\n",
        "\n",
        "*   student_id = Student ID\n",
        "* years = Number of years the student has been enrolled in their program of study\n",
        "* entrance_test_score = Entrance exam test score\n",
        "* courses_taken = Number of courses a student has taken during their program\n",
        "* complete = Whether or not a student completed a course or dropped out (yes = completed)\n",
        "* enroll_data_time = Date and time student enrolled in POSIXct format\n",
        "* course_id = Course ID\n",
        "international = Is the student from overseas\n",
        "* online = Is the student only taking online courses\n",
        "* gender = One of five possible gender identitiesist item\n",
        "\n",
        "\n",
        "\n",
        "\n",
        "\n"
      ],
      "metadata": {
        "id": "VqOSukG9D3Ga"
      }
    },
    {
      "cell_type": "markdown",
      "source": [
        "## Project Write-up Guide"
      ],
      "metadata": {
        "id": "5fupBkOlFBKG"
      }
    },
    {
      "cell_type": "markdown",
      "source": [
        "### Recap and articulate the project\n",
        "\n",
        "In this project, I will use multiple algorithms to predict if a student will drop out courses or not, followed up with algorithm evaluation."
      ],
      "metadata": {
        "id": "ZxXcdKtDEolB"
      }
    },
    {
      "cell_type": "markdown",
      "source": [
        "### Feature engeineering\n",
        "\n",
        "I will perform the Extra Trees Classifier and ...\n",
        "\n",
        "Extra trees classifier is a type of ensemble learning methods that combines the predictions from many decision trees."
      ],
      "metadata": {
        "id": "5i4nkAXaF5x6"
      }
    },
    {
      "cell_type": "markdown",
      "source": [
        "### Algorithms\n",
        "Logistic Regression,Support Vector Machine, Naive Bayes"
      ],
      "metadata": {
        "id": "75uKSaXL6tZJ"
      }
    },
    {
      "cell_type": "markdown",
      "source": [
        "## Implementation"
      ],
      "metadata": {
        "id": "01G9nJJF-_-H"
      }
    },
    {
      "cell_type": "markdown",
      "source": [
        "### Import Data"
      ],
      "metadata": {
        "id": "MEbK_VKk_PRX"
      }
    },
    {
      "cell_type": "code",
      "source": [
        "from google.colab import auth\n",
        "auth.authenticate_user()\n",
        "\n",
        "import gspread\n",
        "from google.auth import default\n",
        "creds, _ = default()\n",
        "\n",
        "gc = gspread.authorize(creds)\n",
        "\n",
        "# To import Goolge sheet to pandas dataframe. \n",
        "worksheet = gc.open('drop-out').sheet1\n",
        "rows = worksheet.get_all_values()\n",
        "\n",
        "import pandas as pd\n",
        "data = pd.DataFrame.from_records(rows)\n",
        "# Create a new variable called 'new_header' from the first row of the dataset\n",
        "# This calls the first row for the header\n",
        "new_header = data.iloc[0] \n",
        "# take the rest of your data minus the header row\n",
        "data = data[1:] \n",
        "# set the header row as the df header\n",
        "data.columns = new_header \n",
        "# Lets see the 5 first rows of the new dataset\n",
        "data.head()"
      ],
      "metadata": {
        "colab": {
          "base_uri": "https://localhost:8080/",
          "height": 270
        },
        "id": "VDjZeJ8FB5H9",
        "outputId": "11ae7ff5-750c-45fe-f3f3-2d3d42be3c1a"
      },
      "execution_count": 10,
      "outputs": [
        {
          "output_type": "execute_result",
          "data": {
            "text/plain": [
              "0 student_id years entrance_test_score courses_taken complete  \\\n",
              "1     172777     0                  47             4      yes   \n",
              "2     172777     0                  47             4      yes   \n",
              "3     172777     0                  47             4      yes   \n",
              "4     172777     0                  47             4      yes   \n",
              "5     175658     0                92.8            22      yes   \n",
              "\n",
              "0 enroll_date_time course_id international online gender  \n",
              "1        159227767    807728            no     no      1  \n",
              "2        159227782    658434            no     no      1  \n",
              "3        159227866    658463            no     no      1  \n",
              "4        159227948    658498            no     no      1  \n",
              "5        157446419    807728            no     no      1  "
            ],
            "text/html": [
              "\n",
              "  <div id=\"df-adc8871f-e360-4f61-8bd9-3008175d61ba\">\n",
              "    <div class=\"colab-df-container\">\n",
              "      <div>\n",
              "<style scoped>\n",
              "    .dataframe tbody tr th:only-of-type {\n",
              "        vertical-align: middle;\n",
              "    }\n",
              "\n",
              "    .dataframe tbody tr th {\n",
              "        vertical-align: top;\n",
              "    }\n",
              "\n",
              "    .dataframe thead th {\n",
              "        text-align: right;\n",
              "    }\n",
              "</style>\n",
              "<table border=\"1\" class=\"dataframe\">\n",
              "  <thead>\n",
              "    <tr style=\"text-align: right;\">\n",
              "      <th></th>\n",
              "      <th>student_id</th>\n",
              "      <th>years</th>\n",
              "      <th>entrance_test_score</th>\n",
              "      <th>courses_taken</th>\n",
              "      <th>complete</th>\n",
              "      <th>enroll_date_time</th>\n",
              "      <th>course_id</th>\n",
              "      <th>international</th>\n",
              "      <th>online</th>\n",
              "      <th>gender</th>\n",
              "    </tr>\n",
              "  </thead>\n",
              "  <tbody>\n",
              "    <tr>\n",
              "      <th>1</th>\n",
              "      <td>172777</td>\n",
              "      <td>0</td>\n",
              "      <td>47</td>\n",
              "      <td>4</td>\n",
              "      <td>yes</td>\n",
              "      <td>159227767</td>\n",
              "      <td>807728</td>\n",
              "      <td>no</td>\n",
              "      <td>no</td>\n",
              "      <td>1</td>\n",
              "    </tr>\n",
              "    <tr>\n",
              "      <th>2</th>\n",
              "      <td>172777</td>\n",
              "      <td>0</td>\n",
              "      <td>47</td>\n",
              "      <td>4</td>\n",
              "      <td>yes</td>\n",
              "      <td>159227782</td>\n",
              "      <td>658434</td>\n",
              "      <td>no</td>\n",
              "      <td>no</td>\n",
              "      <td>1</td>\n",
              "    </tr>\n",
              "    <tr>\n",
              "      <th>3</th>\n",
              "      <td>172777</td>\n",
              "      <td>0</td>\n",
              "      <td>47</td>\n",
              "      <td>4</td>\n",
              "      <td>yes</td>\n",
              "      <td>159227866</td>\n",
              "      <td>658463</td>\n",
              "      <td>no</td>\n",
              "      <td>no</td>\n",
              "      <td>1</td>\n",
              "    </tr>\n",
              "    <tr>\n",
              "      <th>4</th>\n",
              "      <td>172777</td>\n",
              "      <td>0</td>\n",
              "      <td>47</td>\n",
              "      <td>4</td>\n",
              "      <td>yes</td>\n",
              "      <td>159227948</td>\n",
              "      <td>658498</td>\n",
              "      <td>no</td>\n",
              "      <td>no</td>\n",
              "      <td>1</td>\n",
              "    </tr>\n",
              "    <tr>\n",
              "      <th>5</th>\n",
              "      <td>175658</td>\n",
              "      <td>0</td>\n",
              "      <td>92.8</td>\n",
              "      <td>22</td>\n",
              "      <td>yes</td>\n",
              "      <td>157446419</td>\n",
              "      <td>807728</td>\n",
              "      <td>no</td>\n",
              "      <td>no</td>\n",
              "      <td>1</td>\n",
              "    </tr>\n",
              "  </tbody>\n",
              "</table>\n",
              "</div>\n",
              "      <button class=\"colab-df-convert\" onclick=\"convertToInteractive('df-adc8871f-e360-4f61-8bd9-3008175d61ba')\"\n",
              "              title=\"Convert this dataframe to an interactive table.\"\n",
              "              style=\"display:none;\">\n",
              "        \n",
              "  <svg xmlns=\"http://www.w3.org/2000/svg\" height=\"24px\"viewBox=\"0 0 24 24\"\n",
              "       width=\"24px\">\n",
              "    <path d=\"M0 0h24v24H0V0z\" fill=\"none\"/>\n",
              "    <path d=\"M18.56 5.44l.94 2.06.94-2.06 2.06-.94-2.06-.94-.94-2.06-.94 2.06-2.06.94zm-11 1L8.5 8.5l.94-2.06 2.06-.94-2.06-.94L8.5 2.5l-.94 2.06-2.06.94zm10 10l.94 2.06.94-2.06 2.06-.94-2.06-.94-.94-2.06-.94 2.06-2.06.94z\"/><path d=\"M17.41 7.96l-1.37-1.37c-.4-.4-.92-.59-1.43-.59-.52 0-1.04.2-1.43.59L10.3 9.45l-7.72 7.72c-.78.78-.78 2.05 0 2.83L4 21.41c.39.39.9.59 1.41.59.51 0 1.02-.2 1.41-.59l7.78-7.78 2.81-2.81c.8-.78.8-2.07 0-2.86zM5.41 20L4 18.59l7.72-7.72 1.47 1.35L5.41 20z\"/>\n",
              "  </svg>\n",
              "      </button>\n",
              "      \n",
              "  <style>\n",
              "    .colab-df-container {\n",
              "      display:flex;\n",
              "      flex-wrap:wrap;\n",
              "      gap: 12px;\n",
              "    }\n",
              "\n",
              "    .colab-df-convert {\n",
              "      background-color: #E8F0FE;\n",
              "      border: none;\n",
              "      border-radius: 50%;\n",
              "      cursor: pointer;\n",
              "      display: none;\n",
              "      fill: #1967D2;\n",
              "      height: 32px;\n",
              "      padding: 0 0 0 0;\n",
              "      width: 32px;\n",
              "    }\n",
              "\n",
              "    .colab-df-convert:hover {\n",
              "      background-color: #E2EBFA;\n",
              "      box-shadow: 0px 1px 2px rgba(60, 64, 67, 0.3), 0px 1px 3px 1px rgba(60, 64, 67, 0.15);\n",
              "      fill: #174EA6;\n",
              "    }\n",
              "\n",
              "    [theme=dark] .colab-df-convert {\n",
              "      background-color: #3B4455;\n",
              "      fill: #D2E3FC;\n",
              "    }\n",
              "\n",
              "    [theme=dark] .colab-df-convert:hover {\n",
              "      background-color: #434B5C;\n",
              "      box-shadow: 0px 1px 3px 1px rgba(0, 0, 0, 0.15);\n",
              "      filter: drop-shadow(0px 1px 2px rgba(0, 0, 0, 0.3));\n",
              "      fill: #FFFFFF;\n",
              "    }\n",
              "  </style>\n",
              "\n",
              "      <script>\n",
              "        const buttonEl =\n",
              "          document.querySelector('#df-adc8871f-e360-4f61-8bd9-3008175d61ba button.colab-df-convert');\n",
              "        buttonEl.style.display =\n",
              "          google.colab.kernel.accessAllowed ? 'block' : 'none';\n",
              "\n",
              "        async function convertToInteractive(key) {\n",
              "          const element = document.querySelector('#df-adc8871f-e360-4f61-8bd9-3008175d61ba');\n",
              "          const dataTable =\n",
              "            await google.colab.kernel.invokeFunction('convertToInteractive',\n",
              "                                                     [key], {});\n",
              "          if (!dataTable) return;\n",
              "\n",
              "          const docLinkHtml = 'Like what you see? Visit the ' +\n",
              "            '<a target=\"_blank\" href=https://colab.research.google.com/notebooks/data_table.ipynb>data table notebook</a>'\n",
              "            + ' to learn more about interactive tables.';\n",
              "          element.innerHTML = '';\n",
              "          dataTable['output_type'] = 'display_data';\n",
              "          await google.colab.output.renderOutput(dataTable, element);\n",
              "          const docLink = document.createElement('div');\n",
              "          docLink.innerHTML = docLinkHtml;\n",
              "          element.appendChild(docLink);\n",
              "        }\n",
              "      </script>\n",
              "    </div>\n",
              "  </div>\n",
              "  "
            ]
          },
          "metadata": {},
          "execution_count": 10
        }
      ]
    },
    {
      "cell_type": "code",
      "source": [
        "data.describe()"
      ],
      "metadata": {
        "colab": {
          "base_uri": "https://localhost:8080/",
          "height": 239
        },
        "id": "6vU78xZe_Y0N",
        "outputId": "a565701c-808a-4d1b-ae32-9f6b51fc9a30"
      },
      "execution_count": 11,
      "outputs": [
        {
          "output_type": "execute_result",
          "data": {
            "text/plain": [
              "0      student_id years entrance_test_score courses_taken complete  \\\n",
              "count        5861  5861                5861          5861     5861   \n",
              "unique        682     8                 222            43        2   \n",
              "top        240300     0                   0             4      yes   \n",
              "freq           60  4871                2528           476     4137   \n",
              "\n",
              "0      enroll_date_time course_id international online gender  \n",
              "count              5861      5861          5861   5861   5861  \n",
              "unique             5861        35             2      2      5  \n",
              "top           159227767    658434            no     no      2  \n",
              "freq                  1       872          4997   4478   2805  "
            ],
            "text/html": [
              "\n",
              "  <div id=\"df-d07a60d6-0030-4472-beff-6e6f72672452\">\n",
              "    <div class=\"colab-df-container\">\n",
              "      <div>\n",
              "<style scoped>\n",
              "    .dataframe tbody tr th:only-of-type {\n",
              "        vertical-align: middle;\n",
              "    }\n",
              "\n",
              "    .dataframe tbody tr th {\n",
              "        vertical-align: top;\n",
              "    }\n",
              "\n",
              "    .dataframe thead th {\n",
              "        text-align: right;\n",
              "    }\n",
              "</style>\n",
              "<table border=\"1\" class=\"dataframe\">\n",
              "  <thead>\n",
              "    <tr style=\"text-align: right;\">\n",
              "      <th></th>\n",
              "      <th>student_id</th>\n",
              "      <th>years</th>\n",
              "      <th>entrance_test_score</th>\n",
              "      <th>courses_taken</th>\n",
              "      <th>complete</th>\n",
              "      <th>enroll_date_time</th>\n",
              "      <th>course_id</th>\n",
              "      <th>international</th>\n",
              "      <th>online</th>\n",
              "      <th>gender</th>\n",
              "    </tr>\n",
              "  </thead>\n",
              "  <tbody>\n",
              "    <tr>\n",
              "      <th>count</th>\n",
              "      <td>5861</td>\n",
              "      <td>5861</td>\n",
              "      <td>5861</td>\n",
              "      <td>5861</td>\n",
              "      <td>5861</td>\n",
              "      <td>5861</td>\n",
              "      <td>5861</td>\n",
              "      <td>5861</td>\n",
              "      <td>5861</td>\n",
              "      <td>5861</td>\n",
              "    </tr>\n",
              "    <tr>\n",
              "      <th>unique</th>\n",
              "      <td>682</td>\n",
              "      <td>8</td>\n",
              "      <td>222</td>\n",
              "      <td>43</td>\n",
              "      <td>2</td>\n",
              "      <td>5861</td>\n",
              "      <td>35</td>\n",
              "      <td>2</td>\n",
              "      <td>2</td>\n",
              "      <td>5</td>\n",
              "    </tr>\n",
              "    <tr>\n",
              "      <th>top</th>\n",
              "      <td>240300</td>\n",
              "      <td>0</td>\n",
              "      <td>0</td>\n",
              "      <td>4</td>\n",
              "      <td>yes</td>\n",
              "      <td>159227767</td>\n",
              "      <td>658434</td>\n",
              "      <td>no</td>\n",
              "      <td>no</td>\n",
              "      <td>2</td>\n",
              "    </tr>\n",
              "    <tr>\n",
              "      <th>freq</th>\n",
              "      <td>60</td>\n",
              "      <td>4871</td>\n",
              "      <td>2528</td>\n",
              "      <td>476</td>\n",
              "      <td>4137</td>\n",
              "      <td>1</td>\n",
              "      <td>872</td>\n",
              "      <td>4997</td>\n",
              "      <td>4478</td>\n",
              "      <td>2805</td>\n",
              "    </tr>\n",
              "  </tbody>\n",
              "</table>\n",
              "</div>\n",
              "      <button class=\"colab-df-convert\" onclick=\"convertToInteractive('df-d07a60d6-0030-4472-beff-6e6f72672452')\"\n",
              "              title=\"Convert this dataframe to an interactive table.\"\n",
              "              style=\"display:none;\">\n",
              "        \n",
              "  <svg xmlns=\"http://www.w3.org/2000/svg\" height=\"24px\"viewBox=\"0 0 24 24\"\n",
              "       width=\"24px\">\n",
              "    <path d=\"M0 0h24v24H0V0z\" fill=\"none\"/>\n",
              "    <path d=\"M18.56 5.44l.94 2.06.94-2.06 2.06-.94-2.06-.94-.94-2.06-.94 2.06-2.06.94zm-11 1L8.5 8.5l.94-2.06 2.06-.94-2.06-.94L8.5 2.5l-.94 2.06-2.06.94zm10 10l.94 2.06.94-2.06 2.06-.94-2.06-.94-.94-2.06-.94 2.06-2.06.94z\"/><path d=\"M17.41 7.96l-1.37-1.37c-.4-.4-.92-.59-1.43-.59-.52 0-1.04.2-1.43.59L10.3 9.45l-7.72 7.72c-.78.78-.78 2.05 0 2.83L4 21.41c.39.39.9.59 1.41.59.51 0 1.02-.2 1.41-.59l7.78-7.78 2.81-2.81c.8-.78.8-2.07 0-2.86zM5.41 20L4 18.59l7.72-7.72 1.47 1.35L5.41 20z\"/>\n",
              "  </svg>\n",
              "      </button>\n",
              "      \n",
              "  <style>\n",
              "    .colab-df-container {\n",
              "      display:flex;\n",
              "      flex-wrap:wrap;\n",
              "      gap: 12px;\n",
              "    }\n",
              "\n",
              "    .colab-df-convert {\n",
              "      background-color: #E8F0FE;\n",
              "      border: none;\n",
              "      border-radius: 50%;\n",
              "      cursor: pointer;\n",
              "      display: none;\n",
              "      fill: #1967D2;\n",
              "      height: 32px;\n",
              "      padding: 0 0 0 0;\n",
              "      width: 32px;\n",
              "    }\n",
              "\n",
              "    .colab-df-convert:hover {\n",
              "      background-color: #E2EBFA;\n",
              "      box-shadow: 0px 1px 2px rgba(60, 64, 67, 0.3), 0px 1px 3px 1px rgba(60, 64, 67, 0.15);\n",
              "      fill: #174EA6;\n",
              "    }\n",
              "\n",
              "    [theme=dark] .colab-df-convert {\n",
              "      background-color: #3B4455;\n",
              "      fill: #D2E3FC;\n",
              "    }\n",
              "\n",
              "    [theme=dark] .colab-df-convert:hover {\n",
              "      background-color: #434B5C;\n",
              "      box-shadow: 0px 1px 3px 1px rgba(0, 0, 0, 0.15);\n",
              "      filter: drop-shadow(0px 1px 2px rgba(0, 0, 0, 0.3));\n",
              "      fill: #FFFFFF;\n",
              "    }\n",
              "  </style>\n",
              "\n",
              "      <script>\n",
              "        const buttonEl =\n",
              "          document.querySelector('#df-d07a60d6-0030-4472-beff-6e6f72672452 button.colab-df-convert');\n",
              "        buttonEl.style.display =\n",
              "          google.colab.kernel.accessAllowed ? 'block' : 'none';\n",
              "\n",
              "        async function convertToInteractive(key) {\n",
              "          const element = document.querySelector('#df-d07a60d6-0030-4472-beff-6e6f72672452');\n",
              "          const dataTable =\n",
              "            await google.colab.kernel.invokeFunction('convertToInteractive',\n",
              "                                                     [key], {});\n",
              "          if (!dataTable) return;\n",
              "\n",
              "          const docLinkHtml = 'Like what you see? Visit the ' +\n",
              "            '<a target=\"_blank\" href=https://colab.research.google.com/notebooks/data_table.ipynb>data table notebook</a>'\n",
              "            + ' to learn more about interactive tables.';\n",
              "          element.innerHTML = '';\n",
              "          dataTable['output_type'] = 'display_data';\n",
              "          await google.colab.output.renderOutput(dataTable, element);\n",
              "          const docLink = document.createElement('div');\n",
              "          docLink.innerHTML = docLinkHtml;\n",
              "          element.appendChild(docLink);\n",
              "        }\n",
              "      </script>\n",
              "    </div>\n",
              "  </div>\n",
              "  "
            ]
          },
          "metadata": {},
          "execution_count": 11
        }
      ]
    },
    {
      "cell_type": "code",
      "source": [
        ""
      ],
      "metadata": {
        "id": "fn6qJsea_z6a"
      },
      "execution_count": 11,
      "outputs": []
    },
    {
      "cell_type": "markdown",
      "source": [
        "### Data processing\n",
        "To create 3 dummy variables, which are international, online and complete."
      ],
      "metadata": {
        "id": "HN9fZJdrCB8X"
      }
    },
    {
      "cell_type": "code",
      "source": [
        "# create international dummy variable.\n",
        "dummyInternational = pd.get_dummies(data['international'], prefix = 'international')\n",
        "data = pd.concat([data, dummyInternational], axis=1)\n",
        "data = data.drop(['international', 'international_no'], axis=1)\n",
        "\n",
        "# Create online dummy variable.\n",
        "dummyOnline = pd.get_dummies(data['online'], prefix = 'online')\n",
        "data = pd.concat([data, dummyOnline], axis=1)\n",
        "data = data.drop(['online', 'online_no'], axis=1)\n",
        "\n",
        "# create a dummy variable for complete\n",
        "dummyComplete = pd.get_dummies(data['complete'], prefix = 'complete') \n",
        "data = pd.concat([data, dummyComplete], axis=1)\n",
        "data = data.drop(['complete', 'complete_no'], axis=1)\n",
        "\n",
        "# preview the data\n",
        "data"
      ],
      "metadata": {
        "colab": {
          "base_uri": "https://localhost:8080/",
          "height": 488
        },
        "id": "IkxEyG6lCSew",
        "outputId": "fbc4f8d4-3f29-4f11-a78b-aede7251ca12"
      },
      "execution_count": 12,
      "outputs": [
        {
          "output_type": "execute_result",
          "data": {
            "text/plain": [
              "     student_id years entrance_test_score courses_taken enroll_date_time  \\\n",
              "1        172777     0                  47             4        159227767   \n",
              "2        172777     0                  47             4        159227782   \n",
              "3        172777     0                  47             4        159227866   \n",
              "4        172777     0                  47             4        159227948   \n",
              "5        175658     0                92.8            22        157446419   \n",
              "...         ...   ...                 ...           ...              ...   \n",
              "5857     295097     0                   0             3        159550455   \n",
              "5858     295097     0                   0             3        159550594   \n",
              "5859     295097     0                   0             3        159551590   \n",
              "5860     299198     0                   0             2        160838118   \n",
              "5861     299198     0                   0             2        160838130   \n",
              "\n",
              "     course_id gender  international_yes  online_yes  complete_yes  \n",
              "1       807728      1                  0           0             1  \n",
              "2       658434      1                  0           0             1  \n",
              "3       658463      1                  0           0             1  \n",
              "4       658498      1                  0           0             1  \n",
              "5       807728      1                  0           0             1  \n",
              "...        ...    ...                ...         ...           ...  \n",
              "5857    807728      2                  0           0             1  \n",
              "5858    658434      2                  0           0             0  \n",
              "5859    658463      2                  0           0             0  \n",
              "5860    807728      2                  0           0             1  \n",
              "5861    658434      2                  0           0             0  \n",
              "\n",
              "[5861 rows x 10 columns]"
            ],
            "text/html": [
              "\n",
              "  <div id=\"df-41ad4fe3-c335-42f0-a900-6d7aaabd67a6\">\n",
              "    <div class=\"colab-df-container\">\n",
              "      <div>\n",
              "<style scoped>\n",
              "    .dataframe tbody tr th:only-of-type {\n",
              "        vertical-align: middle;\n",
              "    }\n",
              "\n",
              "    .dataframe tbody tr th {\n",
              "        vertical-align: top;\n",
              "    }\n",
              "\n",
              "    .dataframe thead th {\n",
              "        text-align: right;\n",
              "    }\n",
              "</style>\n",
              "<table border=\"1\" class=\"dataframe\">\n",
              "  <thead>\n",
              "    <tr style=\"text-align: right;\">\n",
              "      <th></th>\n",
              "      <th>student_id</th>\n",
              "      <th>years</th>\n",
              "      <th>entrance_test_score</th>\n",
              "      <th>courses_taken</th>\n",
              "      <th>enroll_date_time</th>\n",
              "      <th>course_id</th>\n",
              "      <th>gender</th>\n",
              "      <th>international_yes</th>\n",
              "      <th>online_yes</th>\n",
              "      <th>complete_yes</th>\n",
              "    </tr>\n",
              "  </thead>\n",
              "  <tbody>\n",
              "    <tr>\n",
              "      <th>1</th>\n",
              "      <td>172777</td>\n",
              "      <td>0</td>\n",
              "      <td>47</td>\n",
              "      <td>4</td>\n",
              "      <td>159227767</td>\n",
              "      <td>807728</td>\n",
              "      <td>1</td>\n",
              "      <td>0</td>\n",
              "      <td>0</td>\n",
              "      <td>1</td>\n",
              "    </tr>\n",
              "    <tr>\n",
              "      <th>2</th>\n",
              "      <td>172777</td>\n",
              "      <td>0</td>\n",
              "      <td>47</td>\n",
              "      <td>4</td>\n",
              "      <td>159227782</td>\n",
              "      <td>658434</td>\n",
              "      <td>1</td>\n",
              "      <td>0</td>\n",
              "      <td>0</td>\n",
              "      <td>1</td>\n",
              "    </tr>\n",
              "    <tr>\n",
              "      <th>3</th>\n",
              "      <td>172777</td>\n",
              "      <td>0</td>\n",
              "      <td>47</td>\n",
              "      <td>4</td>\n",
              "      <td>159227866</td>\n",
              "      <td>658463</td>\n",
              "      <td>1</td>\n",
              "      <td>0</td>\n",
              "      <td>0</td>\n",
              "      <td>1</td>\n",
              "    </tr>\n",
              "    <tr>\n",
              "      <th>4</th>\n",
              "      <td>172777</td>\n",
              "      <td>0</td>\n",
              "      <td>47</td>\n",
              "      <td>4</td>\n",
              "      <td>159227948</td>\n",
              "      <td>658498</td>\n",
              "      <td>1</td>\n",
              "      <td>0</td>\n",
              "      <td>0</td>\n",
              "      <td>1</td>\n",
              "    </tr>\n",
              "    <tr>\n",
              "      <th>5</th>\n",
              "      <td>175658</td>\n",
              "      <td>0</td>\n",
              "      <td>92.8</td>\n",
              "      <td>22</td>\n",
              "      <td>157446419</td>\n",
              "      <td>807728</td>\n",
              "      <td>1</td>\n",
              "      <td>0</td>\n",
              "      <td>0</td>\n",
              "      <td>1</td>\n",
              "    </tr>\n",
              "    <tr>\n",
              "      <th>...</th>\n",
              "      <td>...</td>\n",
              "      <td>...</td>\n",
              "      <td>...</td>\n",
              "      <td>...</td>\n",
              "      <td>...</td>\n",
              "      <td>...</td>\n",
              "      <td>...</td>\n",
              "      <td>...</td>\n",
              "      <td>...</td>\n",
              "      <td>...</td>\n",
              "    </tr>\n",
              "    <tr>\n",
              "      <th>5857</th>\n",
              "      <td>295097</td>\n",
              "      <td>0</td>\n",
              "      <td>0</td>\n",
              "      <td>3</td>\n",
              "      <td>159550455</td>\n",
              "      <td>807728</td>\n",
              "      <td>2</td>\n",
              "      <td>0</td>\n",
              "      <td>0</td>\n",
              "      <td>1</td>\n",
              "    </tr>\n",
              "    <tr>\n",
              "      <th>5858</th>\n",
              "      <td>295097</td>\n",
              "      <td>0</td>\n",
              "      <td>0</td>\n",
              "      <td>3</td>\n",
              "      <td>159550594</td>\n",
              "      <td>658434</td>\n",
              "      <td>2</td>\n",
              "      <td>0</td>\n",
              "      <td>0</td>\n",
              "      <td>0</td>\n",
              "    </tr>\n",
              "    <tr>\n",
              "      <th>5859</th>\n",
              "      <td>295097</td>\n",
              "      <td>0</td>\n",
              "      <td>0</td>\n",
              "      <td>3</td>\n",
              "      <td>159551590</td>\n",
              "      <td>658463</td>\n",
              "      <td>2</td>\n",
              "      <td>0</td>\n",
              "      <td>0</td>\n",
              "      <td>0</td>\n",
              "    </tr>\n",
              "    <tr>\n",
              "      <th>5860</th>\n",
              "      <td>299198</td>\n",
              "      <td>0</td>\n",
              "      <td>0</td>\n",
              "      <td>2</td>\n",
              "      <td>160838118</td>\n",
              "      <td>807728</td>\n",
              "      <td>2</td>\n",
              "      <td>0</td>\n",
              "      <td>0</td>\n",
              "      <td>1</td>\n",
              "    </tr>\n",
              "    <tr>\n",
              "      <th>5861</th>\n",
              "      <td>299198</td>\n",
              "      <td>0</td>\n",
              "      <td>0</td>\n",
              "      <td>2</td>\n",
              "      <td>160838130</td>\n",
              "      <td>658434</td>\n",
              "      <td>2</td>\n",
              "      <td>0</td>\n",
              "      <td>0</td>\n",
              "      <td>0</td>\n",
              "    </tr>\n",
              "  </tbody>\n",
              "</table>\n",
              "<p>5861 rows × 10 columns</p>\n",
              "</div>\n",
              "      <button class=\"colab-df-convert\" onclick=\"convertToInteractive('df-41ad4fe3-c335-42f0-a900-6d7aaabd67a6')\"\n",
              "              title=\"Convert this dataframe to an interactive table.\"\n",
              "              style=\"display:none;\">\n",
              "        \n",
              "  <svg xmlns=\"http://www.w3.org/2000/svg\" height=\"24px\"viewBox=\"0 0 24 24\"\n",
              "       width=\"24px\">\n",
              "    <path d=\"M0 0h24v24H0V0z\" fill=\"none\"/>\n",
              "    <path d=\"M18.56 5.44l.94 2.06.94-2.06 2.06-.94-2.06-.94-.94-2.06-.94 2.06-2.06.94zm-11 1L8.5 8.5l.94-2.06 2.06-.94-2.06-.94L8.5 2.5l-.94 2.06-2.06.94zm10 10l.94 2.06.94-2.06 2.06-.94-2.06-.94-.94-2.06-.94 2.06-2.06.94z\"/><path d=\"M17.41 7.96l-1.37-1.37c-.4-.4-.92-.59-1.43-.59-.52 0-1.04.2-1.43.59L10.3 9.45l-7.72 7.72c-.78.78-.78 2.05 0 2.83L4 21.41c.39.39.9.59 1.41.59.51 0 1.02-.2 1.41-.59l7.78-7.78 2.81-2.81c.8-.78.8-2.07 0-2.86zM5.41 20L4 18.59l7.72-7.72 1.47 1.35L5.41 20z\"/>\n",
              "  </svg>\n",
              "      </button>\n",
              "      \n",
              "  <style>\n",
              "    .colab-df-container {\n",
              "      display:flex;\n",
              "      flex-wrap:wrap;\n",
              "      gap: 12px;\n",
              "    }\n",
              "\n",
              "    .colab-df-convert {\n",
              "      background-color: #E8F0FE;\n",
              "      border: none;\n",
              "      border-radius: 50%;\n",
              "      cursor: pointer;\n",
              "      display: none;\n",
              "      fill: #1967D2;\n",
              "      height: 32px;\n",
              "      padding: 0 0 0 0;\n",
              "      width: 32px;\n",
              "    }\n",
              "\n",
              "    .colab-df-convert:hover {\n",
              "      background-color: #E2EBFA;\n",
              "      box-shadow: 0px 1px 2px rgba(60, 64, 67, 0.3), 0px 1px 3px 1px rgba(60, 64, 67, 0.15);\n",
              "      fill: #174EA6;\n",
              "    }\n",
              "\n",
              "    [theme=dark] .colab-df-convert {\n",
              "      background-color: #3B4455;\n",
              "      fill: #D2E3FC;\n",
              "    }\n",
              "\n",
              "    [theme=dark] .colab-df-convert:hover {\n",
              "      background-color: #434B5C;\n",
              "      box-shadow: 0px 1px 3px 1px rgba(0, 0, 0, 0.15);\n",
              "      filter: drop-shadow(0px 1px 2px rgba(0, 0, 0, 0.3));\n",
              "      fill: #FFFFFF;\n",
              "    }\n",
              "  </style>\n",
              "\n",
              "      <script>\n",
              "        const buttonEl =\n",
              "          document.querySelector('#df-41ad4fe3-c335-42f0-a900-6d7aaabd67a6 button.colab-df-convert');\n",
              "        buttonEl.style.display =\n",
              "          google.colab.kernel.accessAllowed ? 'block' : 'none';\n",
              "\n",
              "        async function convertToInteractive(key) {\n",
              "          const element = document.querySelector('#df-41ad4fe3-c335-42f0-a900-6d7aaabd67a6');\n",
              "          const dataTable =\n",
              "            await google.colab.kernel.invokeFunction('convertToInteractive',\n",
              "                                                     [key], {});\n",
              "          if (!dataTable) return;\n",
              "\n",
              "          const docLinkHtml = 'Like what you see? Visit the ' +\n",
              "            '<a target=\"_blank\" href=https://colab.research.google.com/notebooks/data_table.ipynb>data table notebook</a>'\n",
              "            + ' to learn more about interactive tables.';\n",
              "          element.innerHTML = '';\n",
              "          dataTable['output_type'] = 'display_data';\n",
              "          await google.colab.output.renderOutput(dataTable, element);\n",
              "          const docLink = document.createElement('div');\n",
              "          docLink.innerHTML = docLinkHtml;\n",
              "          element.appendChild(docLink);\n",
              "        }\n",
              "      </script>\n",
              "    </div>\n",
              "  </div>\n",
              "  "
            ]
          },
          "metadata": {},
          "execution_count": 12
        }
      ]
    },
    {
      "cell_type": "markdown",
      "source": [
        "### Feature Selection\n",
        "I am gonna use Extra Trees Classifier for the feauture selection, because it is fast and easy to compute. <br>\n",
        "Extra Trees Classifier would randomly sample the features at each split point of a decision tree."
      ],
      "metadata": {
        "id": "FQEB7VzPSD2x"
      }
    },
    {
      "cell_type": "code",
      "source": [
        "from sklearn.ensemble import ExtraTreesClassifier\n",
        "import numpy as np\n",
        "\n",
        "x = data[['student_id', 'years', 'entrance_test_score', 'courses_taken',\n",
        "          'enroll_date_time', 'course_id', 'gender', 'international_yes',\n",
        "          'online_yes']]\n",
        "# ravel the complete_yes for model fit\n",
        "y = np.ravel(data[['complete_yes']])\n",
        "\n",
        "# use the Extra Tree Classifier model\n",
        "model = ExtraTreesClassifier(n_estimators=100)\n",
        "model.fit(x, y)\n",
        "print(model.feature_importances_)"
      ],
      "metadata": {
        "colab": {
          "base_uri": "https://localhost:8080/"
        },
        "id": "xmR06bWUSBNK",
        "outputId": "c37cd8f9-caf9-4540-f7c1-446195418af4"
      },
      "execution_count": 19,
      "outputs": [
        {
          "output_type": "stream",
          "name": "stdout",
          "text": [
            "[0.08086855 0.40185247 0.03079727 0.09503724 0.14994451 0.20644594\n",
            " 0.0193025  0.00768053 0.00807099]\n"
          ]
        }
      ]
    },
    {
      "cell_type": "code",
      "source": [
        "# Sort the importance\n",
        "ext = pd.DataFrame(model.feature_importances_,columns=[\"extratrees\"])\n",
        "ext\n",
        "ext.sort_values(['extratrees'], ascending=False)"
      ],
      "metadata": {
        "colab": {
          "base_uri": "https://localhost:8080/",
          "height": 332
        },
        "id": "AhPmXXy1hgmb",
        "outputId": "a3538296-bec1-4447-926f-b117a5c60a55"
      },
      "execution_count": 22,
      "outputs": [
        {
          "output_type": "execute_result",
          "data": {
            "text/plain": [
              "   extratrees\n",
              "1    0.401852\n",
              "5    0.206446\n",
              "4    0.149945\n",
              "3    0.095037\n",
              "0    0.080869\n",
              "2    0.030797\n",
              "6    0.019303\n",
              "8    0.008071\n",
              "7    0.007681"
            ],
            "text/html": [
              "\n",
              "  <div id=\"df-b87ecedb-b658-4861-b931-4facb068ebe3\">\n",
              "    <div class=\"colab-df-container\">\n",
              "      <div>\n",
              "<style scoped>\n",
              "    .dataframe tbody tr th:only-of-type {\n",
              "        vertical-align: middle;\n",
              "    }\n",
              "\n",
              "    .dataframe tbody tr th {\n",
              "        vertical-align: top;\n",
              "    }\n",
              "\n",
              "    .dataframe thead th {\n",
              "        text-align: right;\n",
              "    }\n",
              "</style>\n",
              "<table border=\"1\" class=\"dataframe\">\n",
              "  <thead>\n",
              "    <tr style=\"text-align: right;\">\n",
              "      <th></th>\n",
              "      <th>extratrees</th>\n",
              "    </tr>\n",
              "  </thead>\n",
              "  <tbody>\n",
              "    <tr>\n",
              "      <th>1</th>\n",
              "      <td>0.401852</td>\n",
              "    </tr>\n",
              "    <tr>\n",
              "      <th>5</th>\n",
              "      <td>0.206446</td>\n",
              "    </tr>\n",
              "    <tr>\n",
              "      <th>4</th>\n",
              "      <td>0.149945</td>\n",
              "    </tr>\n",
              "    <tr>\n",
              "      <th>3</th>\n",
              "      <td>0.095037</td>\n",
              "    </tr>\n",
              "    <tr>\n",
              "      <th>0</th>\n",
              "      <td>0.080869</td>\n",
              "    </tr>\n",
              "    <tr>\n",
              "      <th>2</th>\n",
              "      <td>0.030797</td>\n",
              "    </tr>\n",
              "    <tr>\n",
              "      <th>6</th>\n",
              "      <td>0.019303</td>\n",
              "    </tr>\n",
              "    <tr>\n",
              "      <th>8</th>\n",
              "      <td>0.008071</td>\n",
              "    </tr>\n",
              "    <tr>\n",
              "      <th>7</th>\n",
              "      <td>0.007681</td>\n",
              "    </tr>\n",
              "  </tbody>\n",
              "</table>\n",
              "</div>\n",
              "      <button class=\"colab-df-convert\" onclick=\"convertToInteractive('df-b87ecedb-b658-4861-b931-4facb068ebe3')\"\n",
              "              title=\"Convert this dataframe to an interactive table.\"\n",
              "              style=\"display:none;\">\n",
              "        \n",
              "  <svg xmlns=\"http://www.w3.org/2000/svg\" height=\"24px\"viewBox=\"0 0 24 24\"\n",
              "       width=\"24px\">\n",
              "    <path d=\"M0 0h24v24H0V0z\" fill=\"none\"/>\n",
              "    <path d=\"M18.56 5.44l.94 2.06.94-2.06 2.06-.94-2.06-.94-.94-2.06-.94 2.06-2.06.94zm-11 1L8.5 8.5l.94-2.06 2.06-.94-2.06-.94L8.5 2.5l-.94 2.06-2.06.94zm10 10l.94 2.06.94-2.06 2.06-.94-2.06-.94-.94-2.06-.94 2.06-2.06.94z\"/><path d=\"M17.41 7.96l-1.37-1.37c-.4-.4-.92-.59-1.43-.59-.52 0-1.04.2-1.43.59L10.3 9.45l-7.72 7.72c-.78.78-.78 2.05 0 2.83L4 21.41c.39.39.9.59 1.41.59.51 0 1.02-.2 1.41-.59l7.78-7.78 2.81-2.81c.8-.78.8-2.07 0-2.86zM5.41 20L4 18.59l7.72-7.72 1.47 1.35L5.41 20z\"/>\n",
              "  </svg>\n",
              "      </button>\n",
              "      \n",
              "  <style>\n",
              "    .colab-df-container {\n",
              "      display:flex;\n",
              "      flex-wrap:wrap;\n",
              "      gap: 12px;\n",
              "    }\n",
              "\n",
              "    .colab-df-convert {\n",
              "      background-color: #E8F0FE;\n",
              "      border: none;\n",
              "      border-radius: 50%;\n",
              "      cursor: pointer;\n",
              "      display: none;\n",
              "      fill: #1967D2;\n",
              "      height: 32px;\n",
              "      padding: 0 0 0 0;\n",
              "      width: 32px;\n",
              "    }\n",
              "\n",
              "    .colab-df-convert:hover {\n",
              "      background-color: #E2EBFA;\n",
              "      box-shadow: 0px 1px 2px rgba(60, 64, 67, 0.3), 0px 1px 3px 1px rgba(60, 64, 67, 0.15);\n",
              "      fill: #174EA6;\n",
              "    }\n",
              "\n",
              "    [theme=dark] .colab-df-convert {\n",
              "      background-color: #3B4455;\n",
              "      fill: #D2E3FC;\n",
              "    }\n",
              "\n",
              "    [theme=dark] .colab-df-convert:hover {\n",
              "      background-color: #434B5C;\n",
              "      box-shadow: 0px 1px 3px 1px rgba(0, 0, 0, 0.15);\n",
              "      filter: drop-shadow(0px 1px 2px rgba(0, 0, 0, 0.3));\n",
              "      fill: #FFFFFF;\n",
              "    }\n",
              "  </style>\n",
              "\n",
              "      <script>\n",
              "        const buttonEl =\n",
              "          document.querySelector('#df-b87ecedb-b658-4861-b931-4facb068ebe3 button.colab-df-convert');\n",
              "        buttonEl.style.display =\n",
              "          google.colab.kernel.accessAllowed ? 'block' : 'none';\n",
              "\n",
              "        async function convertToInteractive(key) {\n",
              "          const element = document.querySelector('#df-b87ecedb-b658-4861-b931-4facb068ebe3');\n",
              "          const dataTable =\n",
              "            await google.colab.kernel.invokeFunction('convertToInteractive',\n",
              "                                                     [key], {});\n",
              "          if (!dataTable) return;\n",
              "\n",
              "          const docLinkHtml = 'Like what you see? Visit the ' +\n",
              "            '<a target=\"_blank\" href=https://colab.research.google.com/notebooks/data_table.ipynb>data table notebook</a>'\n",
              "            + ' to learn more about interactive tables.';\n",
              "          element.innerHTML = '';\n",
              "          dataTable['output_type'] = 'display_data';\n",
              "          await google.colab.output.renderOutput(dataTable, element);\n",
              "          const docLink = document.createElement('div');\n",
              "          docLink.innerHTML = docLinkHtml;\n",
              "          element.appendChild(docLink);\n",
              "        }\n",
              "      </script>\n",
              "    </div>\n",
              "  </div>\n",
              "  "
            ]
          },
          "metadata": {},
          "execution_count": 22
        }
      ]
    },
    {
      "cell_type": "markdown",
      "source": [
        "According to the sorted list, we will use first 5 items:\n",
        "1. student_id\n",
        "2. years\n",
        "3. courses_taken\n",
        "4. enroll_data_time\n",
        "5. course_id"
      ],
      "metadata": {
        "id": "tg0ga-E1isou"
      }
    },
    {
      "cell_type": "markdown",
      "source": [
        "### Model Implementation & Validation\n",
        "\n",
        "For classifer selsection, I am gonna use logistic regression, support vector machine, and Naive Bayes.\n",
        "* Logistic regression: most common approach for classification.\n",
        "* SVM is linear algorithm and is used as comparsion with logistic regression.\n",
        "* Naive Bayes: non-linear classification algorithm that helps to learn from the features from given label."
      ],
      "metadata": {
        "id": "A6Yi2z-6i_zE"
      }
    },
    {
      "cell_type": "code",
      "source": [
        "# Prepare the training data and test data.\n",
        "from sklearn.model_selection import train_test_split\n",
        "\n",
        "# Split data into training sets and validation sets\n",
        "x_train, x_test, y_train, y_test = train_test_split(x, y, test_size=0.3)"
      ],
      "metadata": {
        "id": "dCMF2feZjv2D"
      },
      "execution_count": 23,
      "outputs": []
    },
    {
      "cell_type": "markdown",
      "source": [
        "#### Logistic Regression"
      ],
      "metadata": {
        "id": "XLcIsCIxkK-v"
      }
    },
    {
      "cell_type": "code",
      "source": [
        "from sklearn.linear_model import LogisticRegression\n",
        "from sklearn.metrics import confusion_matrix\n",
        "\n",
        "# fit model and predict\n",
        "LogitModel = LogisticRegression(max_iter=2000).fit(x_train, y_train)\n",
        "y_pred = LogitModel.predict(x_test)\n",
        "\n",
        "# compare the predicted ys with waht is acutally in the testing data and obtain\n",
        "# the confusion matrix.\n",
        "print(confusion_matrix(y_test, y_pred))"
      ],
      "metadata": {
        "colab": {
          "base_uri": "https://localhost:8080/"
        },
        "id": "3M2QfzijkDc3",
        "outputId": "11c014ce-76cb-4a37-e5ec-9597852d3b18"
      },
      "execution_count": 27,
      "outputs": [
        {
          "output_type": "stream",
          "name": "stdout",
          "text": [
            "[[   0  500]\n",
            " [   0 1259]]\n"
          ]
        }
      ]
    },
    {
      "cell_type": "code",
      "source": [
        "from sklearn.metrics import accuracy_score\n",
        "ac_logit = accuracy_score(y_test, y_pred)\n",
        "print(ac_logit)"
      ],
      "metadata": {
        "colab": {
          "base_uri": "https://localhost:8080/"
        },
        "id": "zkBwkcrokVfP",
        "outputId": "716c1fab-e8dd-41da-ef6a-889a3ee5ebb4"
      },
      "execution_count": 28,
      "outputs": [
        {
          "output_type": "stream",
          "name": "stdout",
          "text": [
            "0.7157475838544628\n"
          ]
        }
      ]
    },
    {
      "cell_type": "code",
      "source": [
        "from sklearn import metrics\n",
        "\n",
        "print(metrics.classification_report(y_test, y_pred, zero_division=0))"
      ],
      "metadata": {
        "colab": {
          "base_uri": "https://localhost:8080/"
        },
        "id": "hmBLQbw3laCj",
        "outputId": "fc029021-4519-4996-9ee4-27653718dbc2"
      },
      "execution_count": 29,
      "outputs": [
        {
          "output_type": "stream",
          "name": "stdout",
          "text": [
            "              precision    recall  f1-score   support\n",
            "\n",
            "           0       0.00      0.00      0.00       500\n",
            "           1       0.72      1.00      0.83      1259\n",
            "\n",
            "    accuracy                           0.72      1759\n",
            "   macro avg       0.36      0.50      0.42      1759\n",
            "weighted avg       0.51      0.72      0.60      1759\n",
            "\n"
          ]
        }
      ]
    },
    {
      "cell_type": "markdown",
      "source": [
        "#### Support Vector Machine"
      ],
      "metadata": {
        "id": "7CZKEe0CmU5P"
      }
    },
    {
      "cell_type": "code",
      "source": [
        "from sklearn.pipeline import make_pipeline\n",
        "from sklearn.preprocessing import StandardScaler\n",
        "from sklearn.svm import SVC\n",
        "\n",
        "svcModel = make_pipeline(StandardScaler(), SVC(gamma='auto')).fit(x_train, y_train)\n",
        "y_pred = svcModel.predict(x_test)"
      ],
      "metadata": {
        "id": "aXkd3gEOmJbE"
      },
      "execution_count": 34,
      "outputs": []
    },
    {
      "cell_type": "code",
      "source": [
        "ac_logit = accuracy_score(y_test, y_pred)\n",
        "print(ac_logit)"
      ],
      "metadata": {
        "colab": {
          "base_uri": "https://localhost:8080/"
        },
        "id": "boe7ajtPmxWw",
        "outputId": "d07ac549-3e72-42df-e660-509601059ee2"
      },
      "execution_count": 31,
      "outputs": [
        {
          "output_type": "stream",
          "name": "stdout",
          "text": [
            "0.8732234223990903\n"
          ]
        }
      ]
    },
    {
      "cell_type": "code",
      "source": [
        "# Cross Validation\n",
        "from sklearn.model_selection import cross_val_score\n",
        "scores = cross_val_score(svcModel, x, y, cv=5)\n",
        "scores"
      ],
      "metadata": {
        "colab": {
          "base_uri": "https://localhost:8080/"
        },
        "id": "NqGiP8J5ourI",
        "outputId": "f76a32ff-d135-4b61-812c-8c8389cb60de"
      },
      "execution_count": 35,
      "outputs": [
        {
          "output_type": "execute_result",
          "data": {
            "text/plain": [
              "array([0.80903666, 0.8609215 , 0.87201365, 0.87372014, 0.80716724])"
            ]
          },
          "metadata": {},
          "execution_count": 35
        }
      ]
    },
    {
      "cell_type": "code",
      "source": [
        "print(\"%0.2f accuracy with a standard deviation of %0.2f\" % (scores.mean(), scores.std()))"
      ],
      "metadata": {
        "colab": {
          "base_uri": "https://localhost:8080/"
        },
        "id": "QlNTsy2vpHD1",
        "outputId": "2386c873-bd71-47f7-e555-b3ab9cfc0823"
      },
      "execution_count": 37,
      "outputs": [
        {
          "output_type": "stream",
          "name": "stdout",
          "text": [
            "0.84 accuracy with a standard deviation of 0.03\n"
          ]
        }
      ]
    },
    {
      "cell_type": "markdown",
      "source": [
        "#### Naive Bayes"
      ],
      "metadata": {
        "id": "HRZeExrMnFgE"
      }
    },
    {
      "cell_type": "code",
      "source": [
        "from sklearn.naive_bayes import GaussianNB\n",
        "\n",
        "NBModel = GaussianNB(priors=[0.5, 0.5]).fit(x_train, y_train)\n",
        "y_pred = NBModel.predict(x_test)\n",
        "ac_logit = accuracy_score(y_test, y_pred)\n",
        "print(ac_logit)"
      ],
      "metadata": {
        "colab": {
          "base_uri": "https://localhost:8080/"
        },
        "id": "g1-R5RYpnANw",
        "outputId": "7b6c6c34-f1a1-4757-cd05-23ecb912cd25"
      },
      "execution_count": 33,
      "outputs": [
        {
          "output_type": "stream",
          "name": "stdout",
          "text": [
            "0.549175667993178\n"
          ]
        }
      ]
    },
    {
      "cell_type": "markdown",
      "source": [
        "#### Result\n",
        "\n",
        "* Logistic Regression = 0.7157475838544628\n",
        "*  **SVM = 0.84 with a standard deviation of 0.03**\n",
        "* Naive Bayes = 0.549175667993178"
      ],
      "metadata": {
        "id": "RtNyhUe7nla7"
      }
    },
    {
      "cell_type": "code",
      "source": [
        ""
      ],
      "metadata": {
        "id": "SKXgaohCpkE2"
      },
      "execution_count": null,
      "outputs": []
    }
  ]
}